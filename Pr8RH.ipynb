{
 "cells": [
  {
   "cell_type": "markdown",
   "metadata": {},
   "source": [
    "Python Program to Find LCM"
   ]
  },
  {
   "cell_type": "code",
   "execution_count": 2,
   "metadata": {},
   "outputs": [
    {
     "name": "stdout",
     "output_type": "stream",
     "text": [
      "Enter The First Number:44\n",
      "Enter The Second Number:28\n",
      "LCM Of 44 And 28 Is 308\n"
     ]
    }
   ],
   "source": [
    "def LCM(X,Y):\n",
    "    if X>Y:\n",
    "        Largest=X\n",
    "    else:\n",
    "        Largest=Y\n",
    "    while True:\n",
    "        if Largest%X==0 and Largest%Y==0:\n",
    "            lcm=Largest\n",
    "            break\n",
    "        Largest+=1\n",
    "    return lcm\n",
    "A=int(input('Enter The First Number:'))\n",
    "B=int(input('Enter The Second Number:'))\n",
    "print('LCM Of',A,'And',B,'Is',LCM(A,B))"
   ]
  },
  {
   "cell_type": "markdown",
   "metadata": {},
   "source": [
    "Python funcction to Find the Factors of a Number"
   ]
  },
  {
   "cell_type": "code",
   "execution_count": 4,
   "metadata": {},
   "outputs": [
    {
     "name": "stdout",
     "output_type": "stream",
     "text": [
      "Enter The Number:44\n",
      "Factors Of 44\n",
      "1\n",
      "2\n",
      "4\n",
      "11\n",
      "22\n",
      "44\n"
     ]
    }
   ],
   "source": [
    "X=int(input('Enter The Number:'))\n",
    "print('Factors Of',X)\n",
    "for i in range(1,X+1):\n",
    "    if X%i==0:\n",
    "        print(i)"
   ]
  },
  {
   "cell_type": "markdown",
   "metadata": {},
   "source": [
    "Python Program to Make a Simple Calculator"
   ]
  },
  {
   "cell_type": "code",
   "execution_count": 5,
   "metadata": {},
   "outputs": [
    {
     "name": "stdout",
     "output_type": "stream",
     "text": [
      "Which Operation You Want To Use:\n",
      "1.Addition\n",
      "2.Subtraction\n",
      "3.Multiplication\n",
      "4.Division\n",
      "Enter Your Choice 1 2 3 43\n",
      "Enter The First Number:34\n",
      "Enter The Second Number:55\n",
      "Multiplication= 1870\n"
     ]
    }
   ],
   "source": [
    "def ADD(X,Y):\n",
    "    return X+Y\n",
    "def SUB(X,Y):\n",
    "    return X-Y\n",
    "def MUL(X,Y):\n",
    "    return X*Y\n",
    "def DIV(X,Y):\n",
    "    return X/Y\n",
    "print('Which Operation You Want To Use:')\n",
    "print('1.Addition\\n2.Subtraction\\n3.Multiplication\\n4.Division')\n",
    "Z=input('Enter Your Choice 1 2 3 4')\n",
    "A=int(input('Enter The First Number:'))\n",
    "B=int(input('Enter The Second Number:'))\n",
    "if Z=='1':\n",
    "    print('Addition=',ADD(A,B))\n",
    "elif Z=='2':\n",
    "    print('Subtraction=',SUB(A,B))\n",
    "elif Z=='3':\n",
    "    print('Multiplication=',MUL(A,B))\n",
    "elif Z=='4':\n",
    "    print('Division=',DIV(A,B))\n",
    "else:\n",
    "    print('Wrong Choice')"
   ]
  },
  {
   "cell_type": "markdown",
   "metadata": {},
   "source": [
    "Another Type"
   ]
  },
  {
   "cell_type": "code",
   "execution_count": 8,
   "metadata": {},
   "outputs": [],
   "source": [
    "def Cal():\n",
    "    print('Which Operation You Want To Use:')\n",
    "    print('1.Addition\\n2.Subtraction\\n3.Multiplication\\n4.Division')\n",
    "    X=int(input('Enter The First Number:'))\n",
    "    Y=int(input('Enter The Second Number:'))\n",
    "    Z=input('Enter Your Choice 1 2 3 4')\n",
    "    if Z=='1':\n",
    "        print('Addition=',X+Y)\n",
    "    elif Z=='2':\n",
    "        print('Subtraction=',X-Y)\n",
    "    elif Z=='3':\n",
    "        print('Multiplication=',X*Y)\n",
    "    elif Z=='4':\n",
    "        print('Division=',X/Y)\n",
    "    else:\n",
    "        print('Wrong Choice')\n",
    "    Again()\n",
    "def Again():\n",
    "    A=input('Want To Calculate Again.If Yes Press Y and No Press N:')\n",
    "    if A.upper()=='Y':\n",
    "        Cal()\n",
    "    elif A.upper()=='N':\n",
    "        print('Mata ne')\n",
    "    else:\n",
    "        again()"
   ]
  },
  {
   "cell_type": "code",
   "execution_count": 9,
   "metadata": {},
   "outputs": [
    {
     "name": "stdout",
     "output_type": "stream",
     "text": [
      "Which Operation You Want To Use:\n",
      "1.Addition\n",
      "2.Subtraction\n",
      "3.Multiplication\n",
      "4.Division\n",
      "Enter The First Number:56\n",
      "Enter The Second Number:26\n",
      "Enter Your Choice 1 2 3 44\n",
      "Division= 2.1538461538461537\n",
      "Want To Calculate Again.If Yes Press Y and No Press N:y\n",
      "Which Operation You Want To Use:\n",
      "1.Addition\n",
      "2.Subtraction\n",
      "3.Multiplication\n",
      "4.Division\n",
      "Enter The First Number:23\n",
      "Enter The Second Number:44\n",
      "Enter Your Choice 1 2 3 43\n",
      "Multiplication= 1012\n",
      "Want To Calculate Again.If Yes Press Y and No Press N:n\n",
      "Mata ne\n"
     ]
    }
   ],
   "source": [
    "Cal()"
   ]
  },
  {
   "cell_type": "markdown",
   "metadata": {},
   "source": [
    "Python Program to Display Fibonacci Sequence Using Recursion"
   ]
  },
  {
   "cell_type": "code",
   "execution_count": 11,
   "metadata": {},
   "outputs": [
    {
     "name": "stdout",
     "output_type": "stream",
     "text": [
      "Enter The Number Of Terms10\n",
      "Fibonacci Series:\n",
      "0\n",
      "1\n",
      "1\n",
      "2\n",
      "3\n",
      "5\n",
      "8\n",
      "13\n",
      "21\n",
      "34\n"
     ]
    }
   ],
   "source": [
    "def Fibo(X):\n",
    "    if X<=1:\n",
    "        return X\n",
    "    else:\n",
    "        return Fibo(X-1)+Fibo(X-2)\n",
    "Y=int(input('Enter The Number Of Terms'))\n",
    "if Y<=0:\n",
    "    print('Enter The Positive Number')\n",
    "else:\n",
    "    print('Fibonacci Series:')\n",
    "    for i in range(Y):\n",
    "        print(Fibo(i))"
   ]
  },
  {
   "cell_type": "markdown",
   "metadata": {},
   "source": [
    "Python Program to Find Sum of Natural Numbers Using Recursion"
   ]
  },
  {
   "cell_type": "code",
   "execution_count": 12,
   "metadata": {},
   "outputs": [
    {
     "name": "stdout",
     "output_type": "stream",
     "text": [
      "Enter The Terms Of The Natural Numbers:23\n",
      "Sum Of 23 Natural Numbers= 276\n"
     ]
    }
   ],
   "source": [
    "def SN(X):\n",
    "    if X<=1:\n",
    "        return X\n",
    "    else:\n",
    "        return X+SN(X-1)\n",
    "Y=int(input('Enter The Terms Of The Natural Numbers:'))\n",
    "if Y<=0:\n",
    "    print('No Negative Number')\n",
    "else:\n",
    "    print('Sum Of',Y,'Natural Numbers=',SN(Y))"
   ]
  },
  {
   "cell_type": "markdown",
   "metadata": {},
   "source": [
    "Python Program to Find Factorial of Number Using Recursion"
   ]
  },
  {
   "cell_type": "code",
   "execution_count": 14,
   "metadata": {},
   "outputs": [
    {
     "name": "stdout",
     "output_type": "stream",
     "text": [
      "Enter The Number55\n",
      "Factorial Of 55 Is  12696403353658275925965100847566516959580321051449436762275840000000000000\n"
     ]
    }
   ],
   "source": [
    "def FN(X):\n",
    "    if X<=1:\n",
    "        return X\n",
    "    else:\n",
    "        return X*FN(X-1)\n",
    "Y=int(input('Enter The Number'))\n",
    "if Y<=0:\n",
    "    print('No No!!Only Positive')\n",
    "else:\n",
    "    print('Factorial Of',Y,'Is ',FN(Y))"
   ]
  },
  {
   "cell_type": "markdown",
   "metadata": {},
   "source": [
    "Python Program to Add Two Matrices"
   ]
  },
  {
   "cell_type": "code",
   "execution_count": 22,
   "metadata": {},
   "outputs": [
    {
     "name": "stdout",
     "output_type": "stream",
     "text": [
      "[35, 47, 60]\n",
      "[100, 100, 143]\n",
      "[135, 108, 99]\n"
     ]
    }
   ],
   "source": [
    "x=[[2,3,4],\n",
    "  [34,23,55],\n",
    "  [68,74,33]]\n",
    "y=[[33,44,56],\n",
    "  [66,77,88],\n",
    "  [67,34,66]]\n",
    "R=[[0,0,0],\n",
    "         [0,0,0],\n",
    "         [0,0,0]]\n",
    "for i in range(len(x)):\n",
    "    for j in range(len(x[0])):\n",
    "        R[i][j]=x[i][j]+y[i][j]\n",
    "for k in R:\n",
    "    print(k)"
   ]
  },
  {
   "cell_type": "markdown",
   "metadata": {},
   "source": [
    "w.a.p. to enter purchase amount and calculate discount on the basis of amount.\n",
    "\tif amount >=30000 then discount will be 30%\n",
    "\tif amount>=20000 and <30000 then discount will be 20%\n",
    "\tif amount>=10000 and <20000 then discount will be 10%\n",
    "\telse discount will be 3%.\n",
    "\talso calculate payable amount ."
   ]
  },
  {
   "cell_type": "code",
   "execution_count": 23,
   "metadata": {},
   "outputs": [
    {
     "name": "stdout",
     "output_type": "stream",
     "text": [
      "Enter The Amt:45553\n",
      "Discount Will Be 30%\n",
      "After Discount Price will be: 13665.9\n"
     ]
    }
   ],
   "source": [
    "X=int(input('Enter The Amt:'))\n",
    "if X<10000:\n",
    "    print('Discount Will Be 3%')\n",
    "    print('After Discount Price will be:',X*.03)\n",
    "elif 10000<=X<20000:\n",
    "    print('Discount Will Be 10%')\n",
    "    print('After Discount Price will be:',X*.1)\n",
    "elif 20000<=X<30000:\n",
    "    print('Discount Will Be 20%')\n",
    "    print('After Discount Price will be:',X*.2)\n",
    "else:\n",
    "    print('Discount Will Be 30%')\n",
    "    print('After Discount Price will be:',X*.3)"
   ]
  },
  {
   "cell_type": "markdown",
   "metadata": {},
   "source": [
    "Python Program to Transpose a Matrix using Nested Loop"
   ]
  },
  {
   "cell_type": "code",
   "execution_count": 32,
   "metadata": {},
   "outputs": [],
   "source": [
    "from numpy import array as arr"
   ]
  },
  {
   "cell_type": "code",
   "execution_count": 35,
   "metadata": {},
   "outputs": [
    {
     "name": "stdout",
     "output_type": "stream",
     "text": [
      "[[ 23  53  23]\n",
      " [673  43  55]\n",
      " [ 89  67  99]]\n",
      "After Transpose\n",
      "[ 23 673  89]\n",
      "[53 43 67]\n",
      "[23 55 99]\n"
     ]
    }
   ],
   "source": [
    "X=arr([[23,53,23],[673,43,55],[89,67,99]])\n",
    "print(X)\n",
    "print('After Transpose')\n",
    "R=arr([[0,0,0],[0,0,0],[0,0,0]])\n",
    "for i in range(len(X)):\n",
    "    for j in range(len(X[0])):\n",
    "        R[j][i]=X[i][j]\n",
    "for k in R:\n",
    "    print(k)"
   ]
  },
  {
   "cell_type": "markdown",
   "metadata": {},
   "source": [
    "Python Program to Multiply Two Matrices using Nested Loop"
   ]
  },
  {
   "cell_type": "code",
   "execution_count": 41,
   "metadata": {},
   "outputs": [
    {
     "name": "stdout",
     "output_type": "stream",
     "text": [
      "[[23 44 55]\n",
      " [12 54 78]\n",
      " [79 89 99]] \n",
      "\n",
      " [[ 55  64  24   3]\n",
      " [ 23  57  34  44]\n",
      " [ 32  45  24 223]]\n",
      "After Multiplication\n",
      "[ 4037  6455  3368 14270]\n",
      "[ 4398  7356  3996 19806]\n",
      "[ 9560 14584  7298 26230]\n"
     ]
    }
   ],
   "source": [
    "X=arr([[23,44,55],[12,54,78],[79,89,99]])\n",
    "Y=arr([[55,64,24,3],[23,57,34,44],[32,45,24,223]])\n",
    "print(X,'\\n\\n',Y)\n",
    "R=arr([[0,0,0,0],[0,0,0,0],[0,0,0,0]])\n",
    "print('After Multiplication')\n",
    "for i in range(len(X)):\n",
    "    for j in range(len(Y[0])):\n",
    "        for k in range(len(Y)):\n",
    "            R[i][j]+=X[i][k]*Y[k][j]\n",
    "for l in R:\n",
    "    print(l)"
   ]
  },
  {
   "cell_type": "markdown",
   "metadata": {},
   "source": [
    "Python Program to Check Whether a String is Palindrome or Not"
   ]
  },
  {
   "cell_type": "code",
   "execution_count": 42,
   "metadata": {},
   "outputs": [
    {
     "name": "stdout",
     "output_type": "stream",
     "text": [
      "Not A Palindrome\n"
     ]
    }
   ],
   "source": [
    "def SP(Y):\n",
    "    return Y==Y[::-1]\n",
    "X='PrashantHell'\n",
    "Z=SP(X)\n",
    "if Z:\n",
    "    print('Palindrom')\n",
    "else:\n",
    "    print('Not A Palindrome')"
   ]
  }
 ],
 "metadata": {
  "kernelspec": {
   "display_name": "Python 3",
   "language": "python",
   "name": "python3"
  },
  "language_info": {
   "codemirror_mode": {
    "name": "ipython",
    "version": 3
   },
   "file_extension": ".py",
   "mimetype": "text/x-python",
   "name": "python",
   "nbconvert_exporter": "python",
   "pygments_lexer": "ipython3",
   "version": "3.8.0"
  }
 },
 "nbformat": 4,
 "nbformat_minor": 4
}
