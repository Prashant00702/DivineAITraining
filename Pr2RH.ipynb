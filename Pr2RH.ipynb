{
 "cells": [
  {
   "cell_type": "code",
   "execution_count": 1,
   "metadata": {},
   "outputs": [
    {
     "name": "stdout",
     "output_type": "stream",
     "text": [
      "Enter The Number:0\n",
      "Vlaue Is Zero\n"
     ]
    }
   ],
   "source": [
    "X=int(input('Enter The Number:'))\n",
    "if X<0:\n",
    "    print(\"Value Is Negative\")\n",
    "elif X>0:\n",
    "    print(\"Value Is Positive\")\n",
    "else:\n",
    "    print(\"Vlaue Is Zero\")"
   ]
  },
  {
   "cell_type": "code",
   "execution_count": 2,
   "metadata": {},
   "outputs": [
    {
     "name": "stdout",
     "output_type": "stream",
     "text": [
      "Enter The Number:-55\n",
      "Value Is Negative\n"
     ]
    }
   ],
   "source": [
    "X=int(input('Enter The Number:'))\n",
    "if X<0:\n",
    "    print(\"Value Is Negative\")\n",
    "elif X>0:\n",
    "    print(\"Value Is Positive\")\n",
    "else:\n",
    "    print(\"Vlaue Is Zero\")"
   ]
  },
  {
   "cell_type": "code",
   "execution_count": 5,
   "metadata": {},
   "outputs": [
    {
     "name": "stdout",
     "output_type": "stream",
     "text": [
      "Enter The Number:55\n",
      "No\n"
     ]
    }
   ],
   "source": [
    "Y=int(input('Enter The Number:'))\n",
    "if Y<10:\n",
    "    S=\"Yes\"\n",
    "else:\n",
    "    S=\"No\"\n",
    "print(S)"
   ]
  },
  {
   "cell_type": "code",
   "execution_count": 6,
   "metadata": {},
   "outputs": [
    {
     "name": "stdout",
     "output_type": "stream",
     "text": [
      "Enter The Number:3\n",
      "Yes\n"
     ]
    }
   ],
   "source": [
    "Y=int(input('Enter The Number:'))\n",
    "if Y<10:\n",
    "    S=\"Yes\"\n",
    "else:\n",
    "    S=\"No\"\n",
    "print(S)"
   ]
  },
  {
   "cell_type": "code",
   "execution_count": 7,
   "metadata": {},
   "outputs": [
    {
     "name": "stdout",
     "output_type": "stream",
     "text": [
      "Enter The Number:45\n",
      "Yes\n"
     ]
    }
   ],
   "source": [
    "Y=int(input('Enter The Number:'))\n",
    "S='Yes' if Y<100 else 'No'\n",
    "print(S)"
   ]
  },
  {
   "cell_type": "code",
   "execution_count": 8,
   "metadata": {},
   "outputs": [
    {
     "name": "stdout",
     "output_type": "stream",
     "text": [
      "Enter The Number44\n",
      "In Range\n"
     ]
    }
   ],
   "source": [
    "X=int(input('Enter The Number'))\n",
    "if 0<X<50:\n",
    "    print('In Range')\n",
    "else:\n",
    "    print('Out Of Range')"
   ]
  },
  {
   "cell_type": "code",
   "execution_count": 9,
   "metadata": {},
   "outputs": [
    {
     "name": "stdout",
     "output_type": "stream",
     "text": [
      "Enter The Number88\n",
      "Out Of Range\n"
     ]
    }
   ],
   "source": [
    "X=int(input('Enter The Number'))\n",
    "if 0<X<50:\n",
    "    print('In Range')\n",
    "else:\n",
    "    print('Out Of Range')"
   ]
  },
  {
   "cell_type": "code",
   "execution_count": 10,
   "metadata": {},
   "outputs": [],
   "source": [
    "X=[33,55,11,44,55,11]\n",
    "Y=X[:]\n",
    "Z=X"
   ]
  },
  {
   "cell_type": "code",
   "execution_count": 11,
   "metadata": {},
   "outputs": [
    {
     "name": "stdout",
     "output_type": "stream",
     "text": [
      "[33, 55, 11, 44, 55, 11]\n",
      "Are Values of Y and X are same? True\n",
      "Are objects of Y and X are same? False\n",
      "Are Values of Z and X are same? True\n",
      "Are objects of Z and X are same? True\n"
     ]
    }
   ],
   "source": [
    "print(X)\n",
    "print('Are Values of Y and X are same?',Y==X)\n",
    "print('Are objects of Y and X are same?',Y is X)\n",
    "print('Are Values of Z and X are same?',Z==X)\n",
    "print('Are objects of Z and X are same?',Z is X)"
   ]
  },
  {
   "cell_type": "code",
   "execution_count": 12,
   "metadata": {},
   "outputs": [
    {
     "name": "stdout",
     "output_type": "stream",
     "text": [
      "[33, 23, 11, 44, 55, 11]\n"
     ]
    }
   ],
   "source": [
    "X[1]=23\n",
    "print(X)"
   ]
  },
  {
   "cell_type": "code",
   "execution_count": 13,
   "metadata": {},
   "outputs": [
    {
     "name": "stdout",
     "output_type": "stream",
     "text": [
      "Are Values of Y and X are same? False\n",
      "Are objects of Y and X are same? False\n",
      "Are Values of Z and X are same? True\n",
      "Are objects of Z and X are same? True\n"
     ]
    }
   ],
   "source": [
    "print('Are Values of Y and X are same?',Y==X)\n",
    "print('Are objects of Y and X are same?',Y is X)\n",
    "print('Are Values of Z and X are same?',Z==X)\n",
    "print('Are objects of Z and X are same?',Z is X)"
   ]
  },
  {
   "cell_type": "code",
   "execution_count": 14,
   "metadata": {},
   "outputs": [],
   "source": [
    "X=''\n",
    "Y=['a']"
   ]
  },
  {
   "cell_type": "code",
   "execution_count": 15,
   "metadata": {},
   "outputs": [
    {
     "name": "stdout",
     "output_type": "stream",
     "text": [
      "X is False\n",
      "Y is True\n"
     ]
    }
   ],
   "source": [
    "if X:\n",
    "    print('X is True')\n",
    "else:\n",
    "    print('X is False')\n",
    "if Y:\n",
    "    print('Y is True')\n",
    "else:\n",
    "    print('Y is False')"
   ]
  },
  {
   "cell_type": "code",
   "execution_count": 16,
   "metadata": {},
   "outputs": [
    {
     "name": "stdout",
     "output_type": "stream",
     "text": [
      "Enter The Year2020\n",
      "Enter The Month2\n",
      "Enter The Day29\n",
      "Correct Date\n"
     ]
    }
   ],
   "source": [
    "Y=int(input('Enter The Year'))\n",
    "M=int(input('Enter The Month'))\n",
    "D=int(input('Enter The Day'))\n",
    "\n",
    "if 0<=Y and 0<M<13 and 0<D<32:\n",
    "    if Y%4==0:\n",
    "        if M==2:\n",
    "            if D<30:\n",
    "                print('Correct Date')\n",
    "            else:\n",
    "                print('Wrong Date')\n",
    "        elif M==2:\n",
    "            if D<29:\n",
    "                print('Correct Date')\n",
    "            else:\n",
    "                print('Wrong Date')\n",
    "    elif Y%4!=0 and M!=2:\n",
    "        print('Correct Date')\n",
    "else:\n",
    "    print('Wrong Date')\n",
    "            "
   ]
  },
  {
   "cell_type": "code",
   "execution_count": null,
   "metadata": {},
   "outputs": [],
   "source": []
  }
 ],
 "metadata": {
  "kernelspec": {
   "display_name": "Python 3",
   "language": "python",
   "name": "python3"
  },
  "language_info": {
   "codemirror_mode": {
    "name": "ipython",
    "version": 3
   },
   "file_extension": ".py",
   "mimetype": "text/x-python",
   "name": "python",
   "nbconvert_exporter": "python",
   "pygments_lexer": "ipython3",
   "version": "3.8.0"
  }
 },
 "nbformat": 4,
 "nbformat_minor": 4
}
