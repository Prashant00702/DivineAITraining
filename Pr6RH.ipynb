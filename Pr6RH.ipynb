{
 "cells": [
  {
   "cell_type": "markdown",
   "metadata": {},
   "source": [
    "Python Program to find the sum of the cube of each digit"
   ]
  },
  {
   "cell_type": "code",
   "execution_count": 10,
   "metadata": {},
   "outputs": [
    {
     "name": "stdout",
     "output_type": "stream",
     "text": [
      "Enter The Number45\n",
      "Cube Of The Number: 91125\n",
      "Sum Of The Digits:\n"
     ]
    },
    {
     "data": {
      "text/plain": [
       "18"
      ]
     },
     "execution_count": 10,
     "metadata": {},
     "output_type": "execute_result"
    }
   ],
   "source": [
    "def Cube_SD(X):\n",
    "    C=X**3\n",
    "    print('Cube Of The Number:',C)\n",
    "    S=0\n",
    "    print('Sum Of The Digits:')\n",
    "    while C!=0:\n",
    "        S=S+(C%10)\n",
    "        C//=10\n",
    "    return S\n",
    "Z=int(input('Enter The Number'))\n",
    "Cube_SD(Z)"
   ]
  },
  {
   "cell_type": "markdown",
   "metadata": {},
   "source": [
    "Python Program to Find Armstrong Number in an Interval"
   ]
  },
  {
   "cell_type": "code",
   "execution_count": 13,
   "metadata": {},
   "outputs": [
    {
     "name": "stdout",
     "output_type": "stream",
     "text": [
      "Enter The Initial Number:2000\n",
      "Enter The Final Number:20000\n",
      "Armstrong Number Between 2000 and 20000 are:\n",
      "8208\n",
      "9474\n"
     ]
    }
   ],
   "source": [
    "X=int(input('Enter The Initial Number:'))\n",
    "Y=int(input('Enter The Final Number:'))\n",
    "print('Armstrong Number Between',X,'and',Y,'are:')\n",
    "for i in range(X,Y+1):\n",
    "    V=len(str(i))\n",
    "    Temp=i\n",
    "    S=0\n",
    "    while Temp>0:\n",
    "        D=Temp%10\n",
    "        S+=D**V\n",
    "        Temp//=10\n",
    "    if i==S:\n",
    "        print(i)"
   ]
  },
  {
   "cell_type": "markdown",
   "metadata": {},
   "source": [
    "Python Program to Find the Sum of Natural Numbers"
   ]
  },
  {
   "cell_type": "code",
   "execution_count": 15,
   "metadata": {},
   "outputs": [
    {
     "name": "stdout",
     "output_type": "stream",
     "text": [
      "Enter The N Naural Number:55\n",
      "Sum Of N Natural Number: 1540\n"
     ]
    }
   ],
   "source": [
    "X=int(input('Enter The N Naural Number:'))\n",
    "S=0\n",
    "for i in range(1,X+1):\n",
    "    S=S+i\n",
    "print('Sum Of N Natural Number:',S)"
   ]
  },
  {
   "cell_type": "markdown",
   "metadata": {},
   "source": [
    "Python Program To Display Powers of 2 Using Anonymous Function Display the powers of 2 using anonymous function"
   ]
  },
  {
   "cell_type": "code",
   "execution_count": 16,
   "metadata": {},
   "outputs": [
    {
     "name": "stdout",
     "output_type": "stream",
     "text": [
      "Enter The Number:55\n",
      "Power Of 55 is  3025\n"
     ]
    }
   ],
   "source": [
    "def Pow(X):\n",
    "    P=X**2\n",
    "    return P\n",
    "Z=int(input('Enter The Number:'))\n",
    "print('Power Of',Z,'is ',Pow(Z))"
   ]
  },
  {
   "cell_type": "markdown",
   "metadata": {},
   "source": [
    "Python Program to Find Numbers Divisible by Another Number"
   ]
  },
  {
   "cell_type": "code",
   "execution_count": 18,
   "metadata": {},
   "outputs": [
    {
     "name": "stdout",
     "output_type": "stream",
     "text": [
      "Enter The First Number44\n",
      "Enter The Second Number22\n",
      "44 Is Divisible By  22\n",
      "Another\n",
      "Enter The First Number20\n",
      "Enter The Last Number50\n",
      "Enter The Number To Be Divided:4\n",
      "44\n",
      "48\n",
      "None\n"
     ]
    }
   ],
   "source": [
    "X=int(input(\"Enter The First Number\"))\n",
    "Y=int(input('Enter The Second Number'))\n",
    "if X%Y==0:\n",
    "    print(X,'Is Divisible By ',Y)\n",
    "else:\n",
    "    print(X,'Is Not Divisible By ',Y)\n",
    "print('Another')\n",
    "def DD(Z,V,W):\n",
    "    for i in range(X,V+1):\n",
    "        if i%W==0:\n",
    "            print(i)\n",
    "A=int(input(\"Enter The First Number\"))\n",
    "B=int(input('Enter The Last Number'))\n",
    "C=int(input('Enter The Number To Be Divided:'))\n",
    "print(DD(A,B,C))"
   ]
  },
  {
   "cell_type": "markdown",
   "metadata": {},
   "source": [
    "Python Program to Convert Decimal to Binary"
   ]
  },
  {
   "cell_type": "code",
   "execution_count": 24,
   "metadata": {},
   "outputs": [
    {
     "name": "stdout",
     "output_type": "stream",
     "text": [
      "Enter The Decimal Number:4\n",
      "Enter The Decimal Number:7\n",
      "Enter The Decimal Number:9\n",
      "1\n",
      "0\n",
      "0\n",
      "None\n",
      "1\n",
      "1\n",
      "1\n",
      "None\n",
      "1\n",
      "0\n",
      "0\n",
      "1\n",
      "None\n"
     ]
    }
   ],
   "source": [
    "def DTB(X):\n",
    "    if X>=1:\n",
    "        DTB(X//2)\n",
    "        print(X%2)\n",
    "Y=int(input('Enter The Decimal Number:'))\n",
    "Z=int(input('Enter The Decimal Number:'))\n",
    "W=int(input('Enter The Decimal Number:'))\n",
    "print(DTB(Y))\n",
    "print(DTB(Z))\n",
    "print(DTB(W))"
   ]
  },
  {
   "cell_type": "markdown",
   "metadata": {},
   "source": [
    "Python Program to Convert Decimal to Hexadecima"
   ]
  },
  {
   "cell_type": "code",
   "execution_count": 32,
   "metadata": {},
   "outputs": [
    {
     "name": "stdout",
     "output_type": "stream",
     "text": [
      "Enter The Decimal Number:23\n",
      "7 1 7 "
     ]
    }
   ],
   "source": [
    "def DTH(X):\n",
    "    Y=['0']*100\n",
    "    i=0\n",
    "    while X!=0:\n",
    "        Temp=0\n",
    "        Temp=X%16\n",
    "        if Temp<10:\n",
    "            Y[i]=chr(Temp+48)\n",
    "            i=i+1\n",
    "        else:\n",
    "            Y[i]=chr(Temp+55)\n",
    "            i=i+1\n",
    "        X=int(X/16)\n",
    "        j=i-1\n",
    "        while j>=0:\n",
    "            print((Y[j]), end=\" \")\n",
    "            j=j-1\n",
    "Z=int(input('Enter The Decimal Number:'))\n",
    "DTH(Z)"
   ]
  },
  {
   "cell_type": "markdown",
   "metadata": {},
   "source": [
    "Python Program to Find ASCII Value of Character"
   ]
  },
  {
   "cell_type": "code",
   "execution_count": 34,
   "metadata": {},
   "outputs": [
    {
     "name": "stdout",
     "output_type": "stream",
     "text": [
      "Enter The Characterp\n",
      "ASCII Value of  p is  112\n"
     ]
    }
   ],
   "source": [
    "X=input('Enter The Character')\n",
    "print('ASCII Value of ',X,'is ',ord(X))"
   ]
  },
  {
   "cell_type": "markdown",
   "metadata": {},
   "source": [
    "Python Program to Find HCF or GCD"
   ]
  },
  {
   "cell_type": "code",
   "execution_count": 42,
   "metadata": {},
   "outputs": [
    {
     "name": "stdout",
     "output_type": "stream",
     "text": [
      "Enter The Number44\n",
      "Enter The Number24\n",
      "HCF OF  44 and 24 is = 4\n"
     ]
    }
   ],
   "source": [
    "def HCF(X,Y):\n",
    "    if X>Y:\n",
    "        Smaller=Y\n",
    "    else:\n",
    "        Smaller=X\n",
    "    for i in range(1,Smaller+1):\n",
    "        if ((X%i==0) and (Y%i==0)):\n",
    "            hcf=i\n",
    "    return hcf\n",
    "A=int(input('Enter The Number'))\n",
    "B=int(input('Enter The Number'))\n",
    "print('HCF OF ',A, 'and', B,\"is =\",HCF(A,B))"
   ]
  },
  {
   "cell_type": "markdown",
   "metadata": {},
   "source": [
    "w.a.p. to enter age of person and check if age is greater than or equal to 18 then print message, you are eligible for vote , else calculate after how many year he will eligible."
   ]
  },
  {
   "cell_type": "code",
   "execution_count": 43,
   "metadata": {},
   "outputs": [
    {
     "name": "stdout",
     "output_type": "stream",
     "text": [
      "Enter The Age Of First Person25\n",
      "Enter The Age Of Second Person14\n",
      "First Person\n",
      "Eligibble For Voting\n",
      "Second Person\n",
      "Not Eligible For Voting\n",
      "After 4 Years He/She will be eligible for voting\n"
     ]
    }
   ],
   "source": [
    "def Vote(X):\n",
    "    if X>=18:\n",
    "        print('Eligibble For Voting')\n",
    "    else:\n",
    "        print('Not Eligible For Voting')\n",
    "        print('After',18-X,'Years He/She will be eligible for voting')\n",
    "Y=int(input('Enter The Age Of First Person'))\n",
    "Z=int(input('Enter The Age Of Second Person'))\n",
    "print('First Person')\n",
    "Vote(Y)\n",
    "print('Second Person')\n",
    "Vote(Z)"
   ]
  },
  {
   "cell_type": "markdown",
   "metadata": {},
   "source": [
    "w.a.p. to enter electricity consumed unit and calculate electricity bill. where if unit is >=600 then per unit charge will be 5.5Rs\n",
    "where if unit >=300 and <600 then charges will be 4 Rs per unit. where if unit <300 then charge will be 3.5 rs per unit."
   ]
  },
  {
   "cell_type": "code",
   "execution_count": 44,
   "metadata": {},
   "outputs": [
    {
     "name": "stdout",
     "output_type": "stream",
     "text": [
      "Enter The Unit Consumed450\n",
      "For 450.0  unit Electricity Bill will be: 2250.0 Rs\n"
     ]
    }
   ],
   "source": [
    "X=float(input('Enter The Unit Consumed'))\n",
    "if X<300:\n",
    "    print('For',X,' unit Electricity Bill will be:',X*3.5,'Rs')\n",
    "elif 600<X>=300:\n",
    "    print('For',X,' unit Electricity Bill will be:',X*4,'Rs')\n",
    "else:\n",
    "    print('For',X,' unit Electricity Bill will be:',X*5,'Rs')"
   ]
  },
  {
   "cell_type": "markdown",
   "metadata": {},
   "source": [
    "Write a python program to find HCf or GCD using euclidian Algorithm"
   ]
  },
  {
   "cell_type": "code",
   "execution_count": 45,
   "metadata": {},
   "outputs": [
    {
     "name": "stdout",
     "output_type": "stream",
     "text": [
      "Enter The First Number34\n",
      "Enter The Second Number44\n",
      "HCF Of 34  and  44  is  34\n"
     ]
    }
   ],
   "source": [
    "def HCFE(X,Y):\n",
    "    while X:\n",
    "        X,X=Y,X%Y\n",
    "        return X\n",
    "A=int(input('Enter The First Number'))\n",
    "B=int(input('Enter The Second Number'))\n",
    "print('HCF Of',A,' and ',B,' is ',HCFE(A,B))"
   ]
  }
 ],
 "metadata": {
  "kernelspec": {
   "display_name": "Python 3",
   "language": "python",
   "name": "python3"
  },
  "language_info": {
   "codemirror_mode": {
    "name": "ipython",
    "version": 3
   },
   "file_extension": ".py",
   "mimetype": "text/x-python",
   "name": "python",
   "nbconvert_exporter": "python",
   "pygments_lexer": "ipython3",
   "version": "3.8.0"
  }
 },
 "nbformat": 4,
 "nbformat_minor": 4
}
