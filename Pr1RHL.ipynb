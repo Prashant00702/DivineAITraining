{
 "cells": [
  {
   "cell_type": "markdown",
   "metadata": {},
   "source": [
    "Strings"
   ]
  },
  {
   "cell_type": "code",
   "execution_count": 1,
   "metadata": {},
   "outputs": [
    {
     "name": "stdout",
     "output_type": "stream",
     "text": [
      "Prashant Singh King Of Hell\n"
     ]
    }
   ],
   "source": [
    "print('Prashant Singh King Of Hell')"
   ]
  },
  {
   "cell_type": "code",
   "execution_count": 2,
   "metadata": {},
   "outputs": [],
   "source": [
    "A=('Prashant Singh - One And Only Ruler Of Iron Throne')"
   ]
  },
  {
   "cell_type": "code",
   "execution_count": 3,
   "metadata": {},
   "outputs": [
    {
     "name": "stdout",
     "output_type": "stream",
     "text": [
      "<class 'str'>\n"
     ]
    }
   ],
   "source": [
    "print(type(A))"
   ]
  },
  {
   "cell_type": "code",
   "execution_count": 4,
   "metadata": {},
   "outputs": [
    {
     "name": "stdout",
     "output_type": "stream",
     "text": [
      "50\n"
     ]
    }
   ],
   "source": [
    "print(len(A))"
   ]
  },
  {
   "cell_type": "code",
   "execution_count": 5,
   "metadata": {},
   "outputs": [
    {
     "name": "stdout",
     "output_type": "stream",
     "text": [
      "er rfruyOne hith\n"
     ]
    }
   ],
   "source": [
    "print(A[:3:-3])"
   ]
  },
  {
   "cell_type": "code",
   "execution_count": 6,
   "metadata": {},
   "outputs": [
    {
     "name": "stdout",
     "output_type": "stream",
     "text": [
      "sh\n"
     ]
    }
   ],
   "source": [
    "print(A[3:5])"
   ]
  },
  {
   "cell_type": "code",
   "execution_count": 15,
   "metadata": {},
   "outputs": [
    {
     "name": "stdout",
     "output_type": "stream",
     "text": [
      "enorhT norI\n"
     ]
    }
   ],
   "source": [
    "print(A[-1:-12:-1])"
   ]
  },
  {
   "cell_type": "code",
   "execution_count": 13,
   "metadata": {},
   "outputs": [
    {
     "name": "stdout",
     "output_type": "stream",
     "text": [
      "Iron Throne\n"
     ]
    }
   ],
   "source": [
    "print(A[-11:])"
   ]
  },
  {
   "cell_type": "code",
   "execution_count": 16,
   "metadata": {},
   "outputs": [
    {
     "name": "stdout",
     "output_type": "stream",
     "text": [
      "PRASHANT SINGH - ONE AND ONLY RULER OF IRON THRONE\n"
     ]
    }
   ],
   "source": [
    "print(A.upper())"
   ]
  },
  {
   "cell_type": "code",
   "execution_count": 17,
   "metadata": {},
   "outputs": [
    {
     "name": "stdout",
     "output_type": "stream",
     "text": [
      "Prashant Singh - One And Only Ruler Of Iron Throne\n"
     ]
    }
   ],
   "source": [
    "print(A[::])"
   ]
  },
  {
   "cell_type": "code",
   "execution_count": 19,
   "metadata": {},
   "outputs": [
    {
     "name": "stdout",
     "output_type": "stream",
     "text": [
      " ylnO dnA enO \n"
     ]
    }
   ],
   "source": [
    "print(A[-21:-35:-1])"
   ]
  },
  {
   "cell_type": "code",
   "execution_count": 27,
   "metadata": {},
   "outputs": [
    {
     "name": "stdout",
     "output_type": "stream",
     "text": [
      " ylnO dnA enO \n"
     ]
    }
   ],
   "source": [
    "print(A[-21:-35:-1])"
   ]
  },
  {
   "cell_type": "code",
   "execution_count": 28,
   "metadata": {},
   "outputs": [],
   "source": [
    "X='Lucifer also KNow AS King OF HeLL kNow By MaNy NaMeS AND one is prashant singh'"
   ]
  },
  {
   "cell_type": "code",
   "execution_count": 29,
   "metadata": {},
   "outputs": [
    {
     "data": {
      "text/plain": [
       "77"
      ]
     },
     "execution_count": 29,
     "metadata": {},
     "output_type": "execute_result"
    }
   ],
   "source": [
    "len(X)"
   ]
  },
  {
   "cell_type": "code",
   "execution_count": 37,
   "metadata": {},
   "outputs": [
    {
     "name": "stdout",
     "output_type": "stream",
     "text": [
      "Lucifer also KNOW AS KING OF HELL know by many NAMES and ONE is PRASHANT SING\n"
     ]
    }
   ],
   "source": [
    "print(X[:13]+X[13:34].upper()+X[34:47].lower()+X[47:53].upper()+X[53:57].lower()+X[57:61].upper()+X[61:64].lower()+X[64:].upper())"
   ]
  },
  {
   "cell_type": "code",
   "execution_count": 42,
   "metadata": {},
   "outputs": [],
   "source": [
    "Y='ROCK - '\n",
    "Z=\"The Death Reaper\"\n",
    "W=\"aka Prashant Singh\""
   ]
  },
  {
   "cell_type": "code",
   "execution_count": 47,
   "metadata": {},
   "outputs": [
    {
     "name": "stdout",
     "output_type": "stream",
     "text": [
      " ROCK - The Death Reaper aka Prashant Singh \n"
     ]
    }
   ],
   "source": [
    "print(\" \"+Y+Z+' '+W+' ')"
   ]
  },
  {
   "cell_type": "code",
   "execution_count": 54,
   "metadata": {},
   "outputs": [],
   "source": [
    "V=' ROCK - The Death Reaper aka Prashant Singh '"
   ]
  },
  {
   "cell_type": "code",
   "execution_count": 55,
   "metadata": {},
   "outputs": [
    {
     "name": "stdout",
     "output_type": "stream",
     "text": [
      "ROCK - The Death Reaper aka Prashant Singh\n",
      " ROCK - The Death Reaper aka Prashant Singh\n",
      "ROCK - The Death Reaper aka Prashant Singh \n"
     ]
    }
   ],
   "source": [
    "print(V.strip())\n",
    "print(V.rstrip())\n",
    "print(V.lstrip())"
   ]
  },
  {
   "cell_type": "code",
   "execution_count": 56,
   "metadata": {},
   "outputs": [],
   "source": [
    "R=V.strip()"
   ]
  },
  {
   "cell_type": "code",
   "execution_count": 53,
   "metadata": {},
   "outputs": [
    {
     "name": "stdout",
     "output_type": "stream",
     "text": [
      "['ROCK', '-', 'The', 'Death', 'Reaper', 'aka', 'Prashant', 'Singh']\n"
     ]
    }
   ],
   "source": [
    "print(R.split())"
   ]
  },
  {
   "cell_type": "code",
   "execution_count": 57,
   "metadata": {},
   "outputs": [],
   "source": [
    "L=\"The 92FS/98FS Fusion pistol is the result of a careful design research, with the objective strike the perfect balance, namely the fusion, between tradition and innovation.\""
   ]
  },
  {
   "cell_type": "code",
   "execution_count": 61,
   "metadata": {},
   "outputs": [
    {
     "name": "stdout",
     "output_type": "stream",
     "text": [
      "['The 92FS/98FS Fusion pistol is the result of a careful design research', ' with the objective strike the perfect balance – namely the fusion – between tradition and innovation. ']\n"
     ]
    }
   ],
   "source": [
    "print(L.split(\",\"))"
   ]
  },
  {
   "cell_type": "code",
   "execution_count": 63,
   "metadata": {},
   "outputs": [
    {
     "name": "stdout",
     "output_type": "stream",
     "text": [
      "14\n",
      "7\n",
      "Hchiha Madara Made True Definition Of Reaity\n"
     ]
    }
   ],
   "source": [
    "Q='Uchiha Madara Made True Definition Of Reaity'\n",
    "print(Q.find('Made'))\n",
    "print(Q.rfind('Madara'))\n",
    "print(Q.replace('U','H'))"
   ]
  },
  {
   "cell_type": "code",
   "execution_count": 64,
   "metadata": {},
   "outputs": [
    {
     "name": "stdout",
     "output_type": "stream",
     "text": [
      "Uchiha Madara Has RekodSennin's Power \n"
     ]
    }
   ],
   "source": [
    "x='Uchiha Madara'\n",
    "y=x+\" Has RekodSennin's Power \"\n",
    "print(y)"
   ]
  },
  {
   "cell_type": "code",
   "execution_count": 65,
   "metadata": {},
   "outputs": [
    {
     "name": "stdout",
     "output_type": "stream",
     "text": [
      "Uchiha Madara Has Gained The Power Of Rinnegan\n"
     ]
    }
   ],
   "source": [
    "x='Uchiha Madara'\n",
    "y=' Has Gained The Power Of Rinnegan'\n",
    "print(f'{x}{y}')"
   ]
  },
  {
   "cell_type": "code",
   "execution_count": 66,
   "metadata": {},
   "outputs": [
    {
     "name": "stdout",
     "output_type": "stream",
     "text": [
      "Madara has 3 types of power and with that power he has killed 5000000 humans.\n"
     ]
    }
   ],
   "source": [
    "Type=3\n",
    "Murdered=5000000\n",
    "Uchiha='Madara has {} types of power and with that power he has killed {} humans.'\n",
    "print(Uchiha.format(Type,Murdered))"
   ]
  },
  {
   "cell_type": "code",
   "execution_count": 69,
   "metadata": {},
   "outputs": [
    {
     "name": "stdout",
     "output_type": "stream",
     "text": [
      "Trinitrotoluene, or more specifically \"2,4,6-trinitrotoluene\", is a chemical compound with the formula \\C₆H₂(NO₂)₃CH₃.\n"
     ]
    }
   ],
   "source": [
    "TNT=\"Trinitrotoluene, or more specifically \\\"2,4,6-trinitrotoluene\\\", is a chemical compound with the formula \\\\C₆H₂(NO₂)₃CH₃.\"\n",
    "print(TNT)"
   ]
  },
  {
   "cell_type": "code",
   "execution_count": 70,
   "metadata": {},
   "outputs": [
    {
     "name": "stdout",
     "output_type": "stream",
     "text": [
      "is used for explosion\n"
     ]
    }
   ],
   "source": [
    "TNT='TNT \\ris used for explosion'\n",
    "print(TNT)"
   ]
  },
  {
   "cell_type": "code",
   "execution_count": 71,
   "metadata": {},
   "outputs": [
    {
     "name": "stdout",
     "output_type": "stream",
     "text": [
      "TNT is used for \bexplosion\n"
     ]
    }
   ],
   "source": [
    "TNT='TNT is used for \\bexplosion'\n",
    "print(TNT)"
   ]
  },
  {
   "cell_type": "code",
   "execution_count": 77,
   "metadata": {},
   "outputs": [
    {
     "name": "stdout",
     "output_type": "stream",
     "text": [
      "Rock aka prashant!!\n",
      "2\n",
      "True\n",
      "rock aka prashant!!\n",
      "     rock AKA Prashant!!      \n",
      "b'rock AKA Prashant!!'\n"
     ]
    }
   ],
   "source": [
    "S='rock AKA Prashant!!'\n",
    "print(S.capitalize())\n",
    "print(S.count('a'))\n",
    "print(S.endswith('!'))\n",
    "print(S.casefold())\n",
    "print(S.center(30))\n",
    "print(S.encode())"
   ]
  },
  {
   "cell_type": "markdown",
   "metadata": {},
   "source": [
    "LIST SET DICTIONARY TUPLE"
   ]
  },
  {
   "cell_type": "code",
   "execution_count": 118,
   "metadata": {},
   "outputs": [
    {
     "name": "stdout",
     "output_type": "stream",
     "text": [
      "[19, 69, 34, 643, 'Prashant Singh', 53, 33, '233', \"Hell's King\"]\n",
      "<class 'list'>\n",
      "Prashant Singh\n",
      "Prashant Singh Hell's King\n",
      "9\n"
     ]
    }
   ],
   "source": [
    "L=[19,69,34,643,'Prashant Singh',53,33,'233',\"Hell's King\"]\n",
    "print(L)\n",
    "print(type(L))\n",
    "print(L[4])\n",
    "print(L[4]+' '+L[8])\n",
    "print(len(L))"
   ]
  },
  {
   "cell_type": "code",
   "execution_count": 102,
   "metadata": {},
   "outputs": [
    {
     "name": "stdout",
     "output_type": "stream",
     "text": [
      "[643, 'Prashant Singh', 53, 33]\n",
      "[\"Hell's King\", 'Prashant Singh']\n"
     ]
    }
   ],
   "source": [
    "print(L[3:7])\n",
    "print(L[-1:-7:-4])"
   ]
  },
  {
   "cell_type": "code",
   "execution_count": 103,
   "metadata": {},
   "outputs": [
    {
     "name": "stdout",
     "output_type": "stream",
     "text": [
      "19\n",
      "69\n",
      "34\n",
      "643\n",
      "Prashant Singh\n",
      "53\n",
      "33\n",
      "233\n",
      "Hell's King\n"
     ]
    }
   ],
   "source": [
    "for i in L:\n",
    "    print(i)"
   ]
  },
  {
   "cell_type": "code",
   "execution_count": 104,
   "metadata": {},
   "outputs": [
    {
     "name": "stdout",
     "output_type": "stream",
     "text": [
      "[19, 69, 34, 643, 'Prashant Singh']\n",
      "[33, '233', \"Hell's King\"]\n",
      "[53, 33, '233', \"Hell's King\"]\n",
      "[19, 69, 34]\n"
     ]
    }
   ],
   "source": [
    "print(L[:5])\n",
    "print(L[-3:])\n",
    "print(L[5:])\n",
    "print(L[:-6])"
   ]
  },
  {
   "cell_type": "code",
   "execution_count": 105,
   "metadata": {},
   "outputs": [
    {
     "name": "stdout",
     "output_type": "stream",
     "text": [
      "Hell's King\n",
      "233\n",
      "33\n",
      "53\n",
      "Prashant Singh\n",
      "643\n",
      "34\n",
      "69\n",
      "19\n"
     ]
    }
   ],
   "source": [
    "for i in reversed(L):\n",
    "    print(i)"
   ]
  },
  {
   "cell_type": "code",
   "execution_count": 100,
   "metadata": {},
   "outputs": [],
   "source": [
    "l=[23,44,66,222,55,22,'ROCK',2412,\"Iron Throne\"]"
   ]
  },
  {
   "cell_type": "code",
   "execution_count": 106,
   "metadata": {},
   "outputs": [
    {
     "name": "stdout",
     "output_type": "stream",
     "text": [
      "[23, 44, 66, 222, 55, 22, 'ROCK', 2412, 'Iron Throne', 'Age:21']\n"
     ]
    }
   ],
   "source": [
    "l.append('Age:21')\n",
    "print(l)"
   ]
  },
  {
   "cell_type": "code",
   "execution_count": 107,
   "metadata": {},
   "outputs": [
    {
     "name": "stdout",
     "output_type": "stream",
     "text": [
      "[23, 44, 66, 222, 55, '352', 22, 'ROCK', 2412, 'Iron Throne', 'Age:21']\n"
     ]
    }
   ],
   "source": [
    "l.insert(5,'352')\n",
    "print(l)"
   ]
  },
  {
   "cell_type": "code",
   "execution_count": 108,
   "metadata": {},
   "outputs": [
    {
     "name": "stdout",
     "output_type": "stream",
     "text": [
      "[23, 44, 66, 222, 55, 22, 'ROCK', 2412, 'Iron Throne', 'Age:21']\n",
      "[23, 44, 66, 222, 55, 22, 'ROCK', 'Iron Throne', 'Age:21']\n"
     ]
    }
   ],
   "source": [
    "l.remove('352')\n",
    "print(l)\n",
    "l.pop(7)\n",
    "print(l)"
   ]
  },
  {
   "cell_type": "code",
   "execution_count": 167,
   "metadata": {},
   "outputs": [
    {
     "name": "stdout",
     "output_type": "stream",
     "text": [
      "False\n"
     ]
    }
   ],
   "source": [
    "l1=[34,22,55,22,689]\n",
    "print(69 in l1)"
   ]
  },
  {
   "cell_type": "code",
   "execution_count": 117,
   "metadata": {},
   "outputs": [
    {
     "name": "stdout",
     "output_type": "stream",
     "text": [
      "(23, 44, 55, 11, 67, 'Lucifer')\n",
      "<class 'tuple'>\n",
      "6\n"
     ]
    }
   ],
   "source": [
    "t=(23,44,55,11,67,'Lucifer')\n",
    "print(t)\n",
    "print(type(t))\n",
    "print(len(t))"
   ]
  },
  {
   "cell_type": "code",
   "execution_count": 116,
   "metadata": {},
   "outputs": [
    {
     "name": "stdout",
     "output_type": "stream",
     "text": [
      "S\n",
      "O\n",
      "N\n",
      "G\n",
      "O\n",
      "K\n",
      "U\n",
      "In Reverse\n",
      "U\n",
      "K\n",
      "O\n",
      "G\n",
      "N\n",
      "O\n",
      "S\n",
      "In Slicing Form\n",
      "G\n",
      "O\n",
      "K\n",
      "U\n",
      "In Reversed Form\n",
      "S\n",
      "O\n",
      "N\n"
     ]
    }
   ],
   "source": [
    "t=('S','O','N','G','O','K','U')\n",
    "for i in t:\n",
    "    print(i)\n",
    "print('In Reverse')\n",
    "for i in reversed(t):\n",
    "    print(i)\n",
    "print(\"In Slicing Form\")\n",
    "for i in t[3:7]:\n",
    "    print(i)\n",
    "print('In Reversed Form')\n",
    "for i in reversed(t[-5:-8:-1]):\n",
    "    print(i)"
   ]
  },
  {
   "cell_type": "code",
   "execution_count": 119,
   "metadata": {},
   "outputs": [
    {
     "name": "stdout",
     "output_type": "stream",
     "text": [
      "Max Value 453\n",
      "Min Value 1\n"
     ]
    }
   ],
   "source": [
    "T=(33,46,11,48,47,95,1,453,69)\n",
    "print('Max Value',max(T))\n",
    "print('Min Value',min(T))"
   ]
  },
  {
   "cell_type": "code",
   "execution_count": 122,
   "metadata": {},
   "outputs": [
    {
     "name": "stdout",
     "output_type": "stream",
     "text": [
      "<class 'tuple'>\n",
      "<class 'list'>\n",
      "List To Tuple Conversion\n",
      "(23, 44, 69)\n",
      "Tuple To List Conversion\n",
      "[23, 44, 55]\n"
     ]
    }
   ],
   "source": [
    "T1=(23,44,55)\n",
    "L1=[23,44,69]\n",
    "print(type(T1))\n",
    "print(type(L1))\n",
    "print(\"List To Tuple Conversion\")\n",
    "print(tuple(L1))\n",
    "print('Tuple To List Conversion')\n",
    "print(list(T1))"
   ]
  },
  {
   "cell_type": "code",
   "execution_count": 126,
   "metadata": {},
   "outputs": [
    {
     "name": "stdout",
     "output_type": "stream",
     "text": [
      "{'Vegeta', 34, 66, 'Prashant Singh', '23', 79, 22}\n",
      "<class 'set'>\n",
      "Vegeta\n",
      "34\n",
      "66\n",
      "Prashant Singh\n",
      "23\n",
      "79\n",
      "22\n"
     ]
    }
   ],
   "source": [
    "S={'Prashant Singh','23',34,66,22,79,'Vegeta'}\n",
    "print(S)\n",
    "print(type(S))\n",
    "for i in S:\n",
    "    print(i)"
   ]
  },
  {
   "cell_type": "code",
   "execution_count": 127,
   "metadata": {},
   "outputs": [
    {
     "name": "stdout",
     "output_type": "stream",
     "text": [
      "7\n"
     ]
    }
   ],
   "source": [
    "print(len(S))"
   ]
  },
  {
   "cell_type": "code",
   "execution_count": 128,
   "metadata": {},
   "outputs": [
    {
     "name": "stdout",
     "output_type": "stream",
     "text": [
      "True\n",
      "False\n"
     ]
    }
   ],
   "source": [
    "print('23' in S)\n",
    "print('Vegeta' not in S)"
   ]
  },
  {
   "cell_type": "code",
   "execution_count": 129,
   "metadata": {},
   "outputs": [
    {
     "name": "stdout",
     "output_type": "stream",
     "text": [
      "{'Vegeta', 34, 66, 'Prashant Singh', '23', 79, 22, 'Age:21'}\n"
     ]
    }
   ],
   "source": [
    "S.add('Age:21')\n",
    "print(S)"
   ]
  },
  {
   "cell_type": "code",
   "execution_count": 131,
   "metadata": {},
   "outputs": [
    {
     "name": "stdout",
     "output_type": "stream",
     "text": [
      "{'Vegeta', 34, 66, 69, 'Prashant Singh', '23', 79, 22, 'Age:21'}\n"
     ]
    }
   ],
   "source": [
    "S.update(['Vegeta','Prashant Singh',66,79,22,34,'23','Age:21',69])\n",
    "print(S)"
   ]
  },
  {
   "cell_type": "code",
   "execution_count": 133,
   "metadata": {},
   "outputs": [
    {
     "name": "stdout",
     "output_type": "stream",
     "text": [
      "{'Vegeta', 34, 66, 69, 'Prashant Singh', 79, 22}\n"
     ]
    }
   ],
   "source": [
    "S.discard('Age:21')\n",
    "S.discard('23')\n",
    "print(S)"
   ]
  },
  {
   "cell_type": "code",
   "execution_count": 135,
   "metadata": {},
   "outputs": [
    {
     "name": "stdout",
     "output_type": "stream",
     "text": [
      "{'Buu', 34, 'Son Goku'}\n",
      "{'Zeno'}\n",
      "{56, 34, 12, 'Son Goku'}\n",
      "{56, 12}\n"
     ]
    }
   ],
   "source": [
    "X={'Vegeta','Son Goku','Buu',34,12,56}\n",
    "Y={'Broly','Vegeta',44,12,56,44}\n",
    "Z={'Zeno','Son Goku',12,34,56}\n",
    "print(X.difference(Y))\n",
    "print(Z.difference(X))\n",
    "print(X.intersection(Z))\n",
    "print(X.intersection(Z,Y))"
   ]
  },
  {
   "cell_type": "code",
   "execution_count": 137,
   "metadata": {},
   "outputs": [
    {
     "name": "stdout",
     "output_type": "stream",
     "text": [
      "True\n",
      "False\n"
     ]
    }
   ],
   "source": [
    "A={'P','R','A','S','H','A','N','T'}\n",
    "B={'A','N','T'}\n",
    "C={'S','I','N','G','H'}\n",
    "print(B.issubset(A))\n",
    "print(C.issubset(A))"
   ]
  },
  {
   "cell_type": "code",
   "execution_count": 138,
   "metadata": {},
   "outputs": [
    {
     "name": "stdout",
     "output_type": "stream",
     "text": [
      "True\n",
      "False\n"
     ]
    }
   ],
   "source": [
    "A={'P','R','A','S','H','A','N','T'}\n",
    "B={'A','N','T'}\n",
    "C={'S','I','N','G','H'}\n",
    "print(A.issuperset(B))\n",
    "print(A.issuperset(C))"
   ]
  },
  {
   "cell_type": "code",
   "execution_count": 159,
   "metadata": {},
   "outputs": [],
   "source": [
    "S1={'Susano','23',34,22,11}\n",
    "S2=frozenset(S1)"
   ]
  },
  {
   "cell_type": "code",
   "execution_count": 160,
   "metadata": {},
   "outputs": [
    {
     "name": "stdout",
     "output_type": "stream",
     "text": [
      "frozenset({34, 'Susano', 22, 11, '23'})\n",
      "<class 'frozenset'>\n"
     ]
    }
   ],
   "source": [
    "print(S2)\n",
    "print(type(S2))"
   ]
  },
  {
   "cell_type": "code",
   "execution_count": 139,
   "metadata": {},
   "outputs": [],
   "source": [
    "D={'Name':'Prashant',\n",
    "   'Age':21,\n",
    "    'Nick':'Rock'\n",
    "}"
   ]
  },
  {
   "cell_type": "code",
   "execution_count": 140,
   "metadata": {},
   "outputs": [
    {
     "name": "stdout",
     "output_type": "stream",
     "text": [
      "{'Name': 'Prashant', 'Age': 21, 'Nick': 'Rock'}\n",
      "<class 'dict'>\n"
     ]
    }
   ],
   "source": [
    "print(D)\n",
    "print(type(D))"
   ]
  },
  {
   "cell_type": "code",
   "execution_count": 141,
   "metadata": {},
   "outputs": [
    {
     "name": "stdout",
     "output_type": "stream",
     "text": [
      "Rock\n"
     ]
    }
   ],
   "source": [
    "X=D['Nick']\n",
    "print(X)"
   ]
  },
  {
   "cell_type": "code",
   "execution_count": 142,
   "metadata": {},
   "outputs": [
    {
     "name": "stdout",
     "output_type": "stream",
     "text": [
      "{'Name': 'Prashant', 'Age': 21, 'Nick': 'Lucifer'}\n"
     ]
    }
   ],
   "source": [
    "D['Nick']='Lucifer'\n",
    "print(D)"
   ]
  },
  {
   "cell_type": "code",
   "execution_count": 143,
   "metadata": {},
   "outputs": [
    {
     "name": "stdout",
     "output_type": "stream",
     "text": [
      "Name\n",
      "Age\n",
      "Nick\n"
     ]
    }
   ],
   "source": [
    "for i in D:\n",
    "    print(i)"
   ]
  },
  {
   "cell_type": "code",
   "execution_count": 144,
   "metadata": {},
   "outputs": [
    {
     "name": "stdout",
     "output_type": "stream",
     "text": [
      "Prashant\n",
      "21\n",
      "Lucifer\n"
     ]
    }
   ],
   "source": [
    "for i in D.values():\n",
    "    print(i)"
   ]
  },
  {
   "cell_type": "code",
   "execution_count": 145,
   "metadata": {},
   "outputs": [
    {
     "name": "stdout",
     "output_type": "stream",
     "text": [
      "{'Name': 'Prashant', 'Age': 21, 'Nick': 'Lucifer', 'Last Name': 'Singh'}\n"
     ]
    }
   ],
   "source": [
    "D['Last Name']='Singh'\n",
    "print(D)"
   ]
  },
  {
   "cell_type": "code",
   "execution_count": 146,
   "metadata": {},
   "outputs": [
    {
     "name": "stdout",
     "output_type": "stream",
     "text": [
      "Key Exist In Dict.\n"
     ]
    }
   ],
   "source": [
    "if 'Nick' in D:\n",
    "    print(\"Key Exist In Dict.\")\n",
    "else:\n",
    "    print('Key Doesn\"t Exist ')"
   ]
  },
  {
   "cell_type": "code",
   "execution_count": 147,
   "metadata": {},
   "outputs": [
    {
     "name": "stdout",
     "output_type": "stream",
     "text": [
      "Key Doesn\"t Exist \n"
     ]
    }
   ],
   "source": [
    "if 'Last' in D:\n",
    "    print(\"Key Exist In Dict.\")\n",
    "else:\n",
    "    print('Key Doesn\"t Exist ')"
   ]
  },
  {
   "cell_type": "code",
   "execution_count": 148,
   "metadata": {},
   "outputs": [
    {
     "name": "stdout",
     "output_type": "stream",
     "text": [
      "{'Name': 'Prashant', 'Nick': 'Lucifer', 'Last Name': 'Singh'}\n"
     ]
    }
   ],
   "source": [
    "D.pop('Age')\n",
    "print(D)"
   ]
  },
  {
   "cell_type": "code",
   "execution_count": 149,
   "metadata": {},
   "outputs": [
    {
     "name": "stdout",
     "output_type": "stream",
     "text": [
      "{'Redmi': {'K20 Pro': '6GB RAM, 128GB Storage, 48Mega Pixel', 'MI 10': '8GB RAM, 268GB Storage, 108Mega Pixel', 'Redmi Note 7Pro': '6GB RAM, 128GB Storage, 48Mega Pixel'}, 'OnePlus': {'OnePlus 6': '6GB RAM, 48GB Storage, 20Mega Pixel', 'Oneplus 7TPro': '8GB RAM, 256GB Storage, 48Mega Pixel', 'OnePlus 8Pro': '12GB RAM, 256GB Storage, 108Mega Pixel'}, 'Apple': {'Iphone 9': '6GB RAM, 128GB Storage, 48Mega Pixel', 'Iphone 10': '8GB RAM, 256GB Storage, 48Mega Pixel', 'Iphone 11': '12GB RAM, 256GB Storage, 108Mega Pixel'}}\n"
     ]
    }
   ],
   "source": [
    "Mobiles={\n",
    "    \n",
    "    'Redmi':{\n",
    "        'K20 Pro':'6GB RAM, 128GB Storage, 48Mega Pixel',\n",
    "        'MI 10':'8GB RAM, 268GB Storage, 108Mega Pixel',\n",
    "        'Redmi Note 7Pro':'6GB RAM, 128GB Storage, 48Mega Pixel'\n",
    "    },\n",
    "    'OnePlus':{\n",
    "        'OnePlus 6':'6GB RAM, 48GB Storage, 20Mega Pixel',\n",
    "        'Oneplus 7TPro':'8GB RAM, 256GB Storage, 48Mega Pixel',\n",
    "        'OnePlus 8Pro':'12GB RAM, 256GB Storage, 108Mega Pixel'\n",
    "    },\n",
    "    'Apple':{\n",
    "        'Iphone 9':'6GB RAM, 128GB Storage, 48Mega Pixel',\n",
    "        'Iphone 10':'8GB RAM, 256GB Storage, 48Mega Pixel',\n",
    "        'Iphone 11':'12GB RAM, 256GB Storage, 108Mega Pixel'\n",
    "    }\n",
    "}\n",
    "print(Mobiles)"
   ]
  },
  {
   "cell_type": "code",
   "execution_count": 150,
   "metadata": {},
   "outputs": [
    {
     "name": "stdout",
     "output_type": "stream",
     "text": [
      "{'Redmi': {'K20 Pro': '6GB RAM, 128GB Storage, 48Mega Pixel', 'MI 10': '8GB RAM, 268GB Storage, 108Mega Pixel', 'Redmi Note 7Pro': '6GB RAM, 128GB Storage, 48Mega Pixel'}, 'OnePlus': {'OnePlus 6': '6GB RAM, 48GB Storage, 20Mega Pixel', 'Oneplus 7TPro': '8GB RAM, 256GB Storage, 48Mega Pixel', 'OnePlus 8Pro': '12GB RAM, 256GB Storage, 108Mega Pixel'}, 'Apple': {'Iphone 9': '6GB RAM, 128GB Storage, 48Mega Pixel', 'Iphone 10': '8GB RAM, 256GB Storage, 48Mega Pixel', 'Iphone 11': '12GB RAM, 256GB Storage, 108Mega Pixel'}}\n"
     ]
    }
   ],
   "source": [
    "Redmi={\n",
    "        'K20 Pro':'6GB RAM, 128GB Storage, 48Mega Pixel',\n",
    "        'MI 10':'8GB RAM, 268GB Storage, 108Mega Pixel',\n",
    "        'Redmi Note 7Pro':'6GB RAM, 128GB Storage, 48Mega Pixel'\n",
    "    }\n",
    "OnePlus={\n",
    "        'OnePlus 6':'6GB RAM, 48GB Storage, 20Mega Pixel',\n",
    "        'Oneplus 7TPro':'8GB RAM, 256GB Storage, 48Mega Pixel',\n",
    "        'OnePlus 8Pro':'12GB RAM, 256GB Storage, 108Mega Pixel'\n",
    "    }\n",
    "Apple={\n",
    "        'Iphone 9':'6GB RAM, 128GB Storage, 48Mega Pixel',\n",
    "        'Iphone 10':'8GB RAM, 256GB Storage, 48Mega Pixel',\n",
    "        'Iphone 11':'12GB RAM, 256GB Storage, 108Mega Pixel'\n",
    "    }\n",
    "Mobiles={\n",
    "    'Redmi':Redmi,\n",
    "    'OnePlus':OnePlus,\n",
    "    'Apple':Apple\n",
    "}\n",
    "print(Mobiles)"
   ]
  },
  {
   "cell_type": "markdown",
   "metadata": {},
   "source": [
    "Type Casting"
   ]
  },
  {
   "cell_type": "code",
   "execution_count": 151,
   "metadata": {},
   "outputs": [
    {
     "name": "stdout",
     "output_type": "stream",
     "text": [
      "False\n",
      "True\n",
      "True\n"
     ]
    }
   ],
   "source": [
    "print(bool(0))\n",
    "print(bool(34+44j))\n",
    "print(bool('Prashant'))"
   ]
  },
  {
   "cell_type": "code",
   "execution_count": 155,
   "metadata": {},
   "outputs": [
    {
     "name": "stdout",
     "output_type": "stream",
     "text": [
      "(20+0j)\n",
      "(233.56+0j)\n",
      "(23+69j)\n",
      "0j\n",
      "(1+0j)\n"
     ]
    }
   ],
   "source": [
    "print(complex(20))\n",
    "print(complex(233.56))\n",
    "print(complex(23,69))\n",
    "print( complex(False))\n",
    "print( complex(True))"
   ]
  },
  {
   "cell_type": "code",
   "execution_count": 156,
   "metadata": {},
   "outputs": [
    {
     "name": "stdout",
     "output_type": "stream",
     "text": [
      "33.0\n"
     ]
    },
    {
     "ename": "TypeError",
     "evalue": "can't convert complex to float",
     "output_type": "error",
     "traceback": [
      "\u001b[1;31m---------------------------------------------------------------------------\u001b[0m",
      "\u001b[1;31mTypeError\u001b[0m                                 Traceback (most recent call last)",
      "\u001b[1;32m<ipython-input-156-04b2abcf52a0>\u001b[0m in \u001b[0;36m<module>\u001b[1;34m\u001b[0m\n\u001b[0;32m      1\u001b[0m \u001b[0mprint\u001b[0m\u001b[1;33m(\u001b[0m\u001b[0mfloat\u001b[0m\u001b[1;33m(\u001b[0m\u001b[1;36m33\u001b[0m\u001b[1;33m)\u001b[0m\u001b[1;33m)\u001b[0m\u001b[1;33m\u001b[0m\u001b[1;33m\u001b[0m\u001b[0m\n\u001b[1;32m----> 2\u001b[1;33m \u001b[0mprint\u001b[0m\u001b[1;33m(\u001b[0m\u001b[0mfloat\u001b[0m\u001b[1;33m(\u001b[0m\u001b[1;36m20\u001b[0m\u001b[1;33m+\u001b[0m\u001b[1;36m2j\u001b[0m\u001b[1;33m)\u001b[0m\u001b[1;33m)\u001b[0m\u001b[1;33m\u001b[0m\u001b[1;33m\u001b[0m\u001b[0m\n\u001b[0m",
      "\u001b[1;31mTypeError\u001b[0m: can't convert complex to float"
     ]
    }
   ],
   "source": [
    "print(float(33))\n",
    "print(float(20+2j))"
   ]
  },
  {
   "cell_type": "code",
   "execution_count": 158,
   "metadata": {},
   "outputs": [
    {
     "name": "stdout",
     "output_type": "stream",
     "text": [
      "1\n",
      "69\n"
     ]
    }
   ],
   "source": [
    "print(int(True))\n",
    "print(int(69.66))"
   ]
  },
  {
   "cell_type": "code",
   "execution_count": 162,
   "metadata": {},
   "outputs": [
    {
     "name": "stdout",
     "output_type": "stream",
     "text": [
      "Enter The First Number33\n",
      "Enter The Second Number56\n",
      "False\n",
      "True\n",
      "False\n",
      "True\n",
      "False\n",
      "True\n"
     ]
    }
   ],
   "source": [
    "X=int(input('Enter The First Number'))\n",
    "Y=float(input('Enter The Second Number'))\n",
    "print(X>Y)\n",
    "print(X<Y)\n",
    "print(X==Y)\n",
    "print(X!=Y)\n",
    "print(X>=Y)\n",
    "print(X<=Y)"
   ]
  },
  {
   "cell_type": "code",
   "execution_count": 163,
   "metadata": {},
   "outputs": [
    {
     "name": "stdout",
     "output_type": "stream",
     "text": [
      "Enter The Number45\n",
      "True\n",
      "True\n",
      "False\n"
     ]
    }
   ],
   "source": [
    "Y=int(input(\"Enter The Number\"))\n",
    "print( Y < 55 or Y > 25)\n",
    "print(Y < 55 and Y > 25)\n",
    "print(not Y)"
   ]
  },
  {
   "cell_type": "code",
   "execution_count": 165,
   "metadata": {},
   "outputs": [
    {
     "name": "stdout",
     "output_type": "stream",
     "text": [
      "Enter The First Number34\n",
      "Enter The Second Number22\n",
      "2\n",
      "54\n",
      "-35\n",
      "-23\n",
      "52\n"
     ]
    }
   ],
   "source": [
    "X=int(input('Enter The First Number'))\n",
    "Y=int(input('Enter The Second Number'))\n",
    "print(X & Y)\n",
    "print(X | Y)\n",
    "print(~X)\n",
    "print(~Y)\n",
    "print(X^Y)"
   ]
  },
  {
   "cell_type": "code",
   "execution_count": 166,
   "metadata": {},
   "outputs": [
    {
     "name": "stdout",
     "output_type": "stream",
     "text": [
      "Enter The Number:23\n",
      "Enter The Number23\n",
      "True\n",
      "False\n",
      "True\n",
      "False\n"
     ]
    }
   ],
   "source": [
    "X = int(input(\"Enter The Number:\"))\n",
    "Y = int(input(\"Enter The Number\"))\n",
    "print(X is Y)\n",
    "print(X is not Y)\n",
    "\n",
    "Z='Prashant'\n",
    "V='Prashant'\n",
    "print(Z is V)\n",
    "print(Z is not V)"
   ]
  },
  {
   "cell_type": "code",
   "execution_count": null,
   "metadata": {},
   "outputs": [],
   "source": []
  }
 ],
 "metadata": {
  "kernelspec": {
   "display_name": "Python 3",
   "language": "python",
   "name": "python3"
  },
  "language_info": {
   "codemirror_mode": {
    "name": "ipython",
    "version": 3
   },
   "file_extension": ".py",
   "mimetype": "text/x-python",
   "name": "python",
   "nbconvert_exporter": "python",
   "pygments_lexer": "ipython3",
   "version": "3.8.0"
  }
 },
 "nbformat": 4,
 "nbformat_minor": 4
}
