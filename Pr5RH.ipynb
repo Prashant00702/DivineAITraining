{
 "cells": [
  {
   "cell_type": "markdown",
   "metadata": {},
   "source": [
    "Python Program to Convert Kilometers to Miles"
   ]
  },
  {
   "cell_type": "code",
   "execution_count": 1,
   "metadata": {},
   "outputs": [],
   "source": [
    "import time"
   ]
  },
  {
   "cell_type": "code",
   "execution_count": 3,
   "metadata": {},
   "outputs": [
    {
     "name": "stdout",
     "output_type": "stream",
     "text": [
      "Enter The Length34.66\n",
      "Converting Kilometers To Miles.....\n",
      "21.537723999999997\n"
     ]
    }
   ],
   "source": [
    "def Km_M(X):\n",
    "    print('Converting Kilometers To Miles.....')\n",
    "    time.sleep(5)\n",
    "    M=X*0.6214\n",
    "    return M\n",
    "K=float(input('Enter The Length'))\n",
    "print(Km_M(K))"
   ]
  },
  {
   "cell_type": "markdown",
   "metadata": {},
   "source": [
    "Python Program to Convert Celsius To Fahrenheit"
   ]
  },
  {
   "cell_type": "code",
   "execution_count": 4,
   "metadata": {},
   "outputs": [
    {
     "name": "stdout",
     "output_type": "stream",
     "text": [
      "Enter The Temperature:45.66\n",
      "Converting Celsius To Fahrenheit...\n",
      "114.188\n"
     ]
    }
   ],
   "source": [
    "def CC_FF(X):\n",
    "    F=(X*1.8)+32\n",
    "    print('Converting Celsius To Fahrenheit...')\n",
    "    time.sleep(3)\n",
    "    return F\n",
    "C=float(input('Enter The Temperature:'))\n",
    "print(CC_FF(C))"
   ]
  },
  {
   "cell_type": "markdown",
   "metadata": {},
   "source": [
    "Python Program to Check if a Number is Positive, Negative or 0"
   ]
  },
  {
   "cell_type": "code",
   "execution_count": 5,
   "metadata": {},
   "outputs": [
    {
     "name": "stdout",
     "output_type": "stream",
     "text": [
      "Enter The Number:23\n",
      "Enter The Number:-44\n",
      "Enter The Number:0\n",
      "Positive\n",
      "Negative\n",
      "0\n"
     ]
    }
   ],
   "source": [
    "def PN(X):\n",
    "    if X>0:\n",
    "        return 'Positive'\n",
    "    elif X<0:\n",
    "        return 'Negative'\n",
    "    else:\n",
    "        return 0\n",
    "    print('The Rock')\n",
    "Y=int(input('Enter The Number:'))\n",
    "Z=int(input('Enter The Number:'))\n",
    "V=int(input('Enter The Number:'))\n",
    "print(PN(Y))\n",
    "print(PN(Z))\n",
    "print(PN(V))"
   ]
  },
  {
   "cell_type": "markdown",
   "metadata": {},
   "source": [
    "Python Program to Check if a Number is Odd or Even"
   ]
  },
  {
   "cell_type": "code",
   "execution_count": 6,
   "metadata": {},
   "outputs": [
    {
     "name": "stdout",
     "output_type": "stream",
     "text": [
      "Enter The Number23\n",
      "Odd Number\n"
     ]
    }
   ],
   "source": [
    "X=int(input('Enter The Number'))\n",
    "if X%2==0:\n",
    "    print('Even Number')\n",
    "else:\n",
    "    print('Odd Number')"
   ]
  },
  {
   "cell_type": "markdown",
   "metadata": {},
   "source": [
    "Python Program to Check Leap Year"
   ]
  },
  {
   "cell_type": "code",
   "execution_count": 8,
   "metadata": {},
   "outputs": [
    {
     "name": "stdout",
     "output_type": "stream",
     "text": [
      "Enter The Year:2013\n",
      "Not A Leap Year\n"
     ]
    }
   ],
   "source": [
    "Y=int(input('Enter The Year:'))\n",
    "if (Y%4)==0:\n",
    "    if (Y%100)==0:\n",
    "        if (Y%400)==0:\n",
    "            print('Is A Leap Year')\n",
    "        else:\n",
    "            print('Not A Leap Year')\n",
    "    else:\n",
    "        print('Not A leap Year')\n",
    "else:\n",
    "    print('Not A Leap Year')"
   ]
  },
  {
   "cell_type": "markdown",
   "metadata": {},
   "source": [
    "Python Program to Find the Largest Among Three Numbers"
   ]
  },
  {
   "cell_type": "code",
   "execution_count": 9,
   "metadata": {},
   "outputs": [
    {
     "name": "stdout",
     "output_type": "stream",
     "text": [
      "Enter The First Number33\n",
      "Enter The Second Number77\n",
      "Enter The Third Number23\n",
      "Largest Number:= 77\n"
     ]
    }
   ],
   "source": [
    "X=int(input('Enter The First Number'))\n",
    "Y=int(input('Enter The Second Number'))\n",
    "Z=int(input(\"Enter The Third Number\"))\n",
    "if X>Y and X>Z:\n",
    "    L=X\n",
    "elif Y>X and Y>Z:\n",
    "    L=Y\n",
    "else:\n",
    "    L=Z\n",
    "print('Largest Number:=',L)"
   ]
  },
  {
   "cell_type": "markdown",
   "metadata": {},
   "source": [
    "Write a Python Program to check if a number is prime or not"
   ]
  },
  {
   "cell_type": "code",
   "execution_count": 25,
   "metadata": {},
   "outputs": [
    {
     "name": "stdout",
     "output_type": "stream",
     "text": [
      "Enter The Number24\n",
      "Not Prime Number\n"
     ]
    }
   ],
   "source": [
    "X=int(input('Enter The Number'))\n",
    "if X>1:\n",
    "    for i in range(2,X):\n",
    "        if X%i==0:\n",
    "            print('Not Prime Number')\n",
    "            break\n",
    "        else:\n",
    "            print('Prime Number')\n",
    "            break\n",
    "            \n",
    "else:\n",
    "    print('Prime Number')"
   ]
  },
  {
   "cell_type": "code",
   "execution_count": 26,
   "metadata": {},
   "outputs": [
    {
     "name": "stdout",
     "output_type": "stream",
     "text": [
      "Enter The Intial Number230\n",
      "Enter The Last Number900\n",
      "Prime Number Between 230 and Y are:\n",
      "231\n",
      "233\n",
      "235\n",
      "237\n",
      "239\n",
      "241\n",
      "243\n",
      "245\n",
      "247\n",
      "249\n",
      "251\n",
      "253\n",
      "255\n",
      "257\n",
      "259\n",
      "261\n",
      "263\n",
      "265\n",
      "267\n",
      "269\n",
      "271\n",
      "273\n",
      "275\n",
      "277\n",
      "279\n",
      "281\n",
      "283\n",
      "285\n",
      "287\n",
      "289\n",
      "291\n",
      "293\n",
      "295\n",
      "297\n",
      "299\n",
      "301\n",
      "303\n",
      "305\n",
      "307\n",
      "309\n",
      "311\n",
      "313\n",
      "315\n",
      "317\n",
      "319\n",
      "321\n",
      "323\n",
      "325\n",
      "327\n",
      "329\n",
      "331\n",
      "333\n",
      "335\n",
      "337\n",
      "339\n",
      "341\n",
      "343\n",
      "345\n",
      "347\n",
      "349\n",
      "351\n",
      "353\n",
      "355\n",
      "357\n",
      "359\n",
      "361\n",
      "363\n",
      "365\n",
      "367\n",
      "369\n",
      "371\n",
      "373\n",
      "375\n",
      "377\n",
      "379\n",
      "381\n",
      "383\n",
      "385\n",
      "387\n",
      "389\n",
      "391\n",
      "393\n",
      "395\n",
      "397\n",
      "399\n",
      "401\n",
      "403\n",
      "405\n",
      "407\n",
      "409\n",
      "411\n",
      "413\n",
      "415\n",
      "417\n",
      "419\n",
      "421\n",
      "423\n",
      "425\n",
      "427\n",
      "429\n",
      "431\n",
      "433\n",
      "435\n",
      "437\n",
      "439\n",
      "441\n",
      "443\n",
      "445\n",
      "447\n",
      "449\n",
      "451\n",
      "453\n",
      "455\n",
      "457\n",
      "459\n",
      "461\n",
      "463\n",
      "465\n",
      "467\n",
      "469\n",
      "471\n",
      "473\n",
      "475\n",
      "477\n",
      "479\n",
      "481\n",
      "483\n",
      "485\n",
      "487\n",
      "489\n",
      "491\n",
      "493\n",
      "495\n",
      "497\n",
      "499\n",
      "501\n",
      "503\n",
      "505\n",
      "507\n",
      "509\n",
      "511\n",
      "513\n",
      "515\n",
      "517\n",
      "519\n",
      "521\n",
      "523\n",
      "525\n",
      "527\n",
      "529\n",
      "531\n",
      "533\n",
      "535\n",
      "537\n",
      "539\n",
      "541\n",
      "543\n",
      "545\n",
      "547\n",
      "549\n",
      "551\n",
      "553\n",
      "555\n",
      "557\n",
      "559\n",
      "561\n",
      "563\n",
      "565\n",
      "567\n",
      "569\n",
      "571\n",
      "573\n",
      "575\n",
      "577\n",
      "579\n",
      "581\n",
      "583\n",
      "585\n",
      "587\n",
      "589\n",
      "591\n",
      "593\n",
      "595\n",
      "597\n",
      "599\n",
      "601\n",
      "603\n",
      "605\n",
      "607\n",
      "609\n",
      "611\n",
      "613\n",
      "615\n",
      "617\n",
      "619\n",
      "621\n",
      "623\n",
      "625\n",
      "627\n",
      "629\n",
      "631\n",
      "633\n",
      "635\n",
      "637\n",
      "639\n",
      "641\n",
      "643\n",
      "645\n",
      "647\n",
      "649\n",
      "651\n",
      "653\n",
      "655\n",
      "657\n",
      "659\n",
      "661\n",
      "663\n",
      "665\n",
      "667\n",
      "669\n",
      "671\n",
      "673\n",
      "675\n",
      "677\n",
      "679\n",
      "681\n",
      "683\n",
      "685\n",
      "687\n",
      "689\n",
      "691\n",
      "693\n",
      "695\n",
      "697\n",
      "699\n",
      "701\n",
      "703\n",
      "705\n",
      "707\n",
      "709\n",
      "711\n",
      "713\n",
      "715\n",
      "717\n",
      "719\n",
      "721\n",
      "723\n",
      "725\n",
      "727\n",
      "729\n",
      "731\n",
      "733\n",
      "735\n",
      "737\n",
      "739\n",
      "741\n",
      "743\n",
      "745\n",
      "747\n",
      "749\n",
      "751\n",
      "753\n",
      "755\n",
      "757\n",
      "759\n",
      "761\n",
      "763\n",
      "765\n",
      "767\n",
      "769\n",
      "771\n",
      "773\n",
      "775\n",
      "777\n",
      "779\n",
      "781\n",
      "783\n",
      "785\n",
      "787\n",
      "789\n",
      "791\n",
      "793\n",
      "795\n",
      "797\n",
      "799\n",
      "801\n",
      "803\n",
      "805\n",
      "807\n",
      "809\n",
      "811\n",
      "813\n",
      "815\n",
      "817\n",
      "819\n",
      "821\n",
      "823\n",
      "825\n",
      "827\n",
      "829\n",
      "831\n",
      "833\n",
      "835\n",
      "837\n",
      "839\n",
      "841\n",
      "843\n",
      "845\n",
      "847\n",
      "849\n",
      "851\n",
      "853\n",
      "855\n",
      "857\n",
      "859\n",
      "861\n",
      "863\n",
      "865\n",
      "867\n",
      "869\n",
      "871\n",
      "873\n",
      "875\n",
      "877\n",
      "879\n",
      "881\n",
      "883\n",
      "885\n",
      "887\n",
      "889\n",
      "891\n",
      "893\n",
      "895\n",
      "897\n",
      "899\n"
     ]
    }
   ],
   "source": [
    "X=int(input('Enter The Intial Number'))\n",
    "Y=int(input('Enter The Last Number'))\n",
    "print('Prime Number Between',X,'and','Y','are:')\n",
    "for Num in range(X,Y+1):\n",
    "    if Num>1:\n",
    "        for i in range(2,Num):\n",
    "            if Num%2==0:\n",
    "                break\n",
    "        else:\n",
    "            print(Num)"
   ]
  },
  {
   "cell_type": "markdown",
   "metadata": {},
   "source": [
    "Python program to find the factorial of a number."
   ]
  },
  {
   "cell_type": "code",
   "execution_count": 28,
   "metadata": {},
   "outputs": [
    {
     "name": "stdout",
     "output_type": "stream",
     "text": [
      "Enter The Number23\n",
      "Factorial Of 23 is = 25852016738884976640000\n"
     ]
    }
   ],
   "source": [
    "Fact=1\n",
    "X=int(input('Enter The Number'))\n",
    "if X<0:\n",
    "    print(\"Number Less Than 0 Doesn't exist\")\n",
    "elif X==0 or X==1:\n",
    "    print(\"Factorial Of 0 And 1 is 1\")\n",
    "else:\n",
    "    for i in range(1,X+1):\n",
    "        Fact*=i\n",
    "print('Factorial Of',X,'is =',Fact)"
   ]
  },
  {
   "cell_type": "markdown",
   "metadata": {},
   "source": [
    "Python Program to Display the multiplication Table"
   ]
  },
  {
   "cell_type": "code",
   "execution_count": 29,
   "metadata": {},
   "outputs": [],
   "source": [
    "def Mul_Table(X):\n",
    "    print('Multiplication Table:')\n",
    "    for i in range(1,10):\n",
    "        print(X,'X',i,'=',X*i)"
   ]
  },
  {
   "cell_type": "code",
   "execution_count": 30,
   "metadata": {},
   "outputs": [
    {
     "name": "stdout",
     "output_type": "stream",
     "text": [
      "Enter The Number:23\n",
      "Multiplication Table:\n",
      "23 X 1 = 23\n",
      "23 X 2 = 46\n",
      "23 X 3 = 69\n",
      "23 X 4 = 92\n",
      "23 X 5 = 115\n",
      "23 X 6 = 138\n",
      "23 X 7 = 161\n",
      "23 X 8 = 184\n",
      "23 X 9 = 207\n"
     ]
    }
   ],
   "source": [
    "Z=int(input('Enter The Number:'))\n",
    "Mul_Table(Z)"
   ]
  },
  {
   "cell_type": "markdown",
   "metadata": {},
   "source": [
    "Python Program to Print the Fibonacci sequence"
   ]
  },
  {
   "cell_type": "code",
   "execution_count": 31,
   "metadata": {},
   "outputs": [
    {
     "name": "stdout",
     "output_type": "stream",
     "text": [
      "Fibonacci Series\n",
      "Enter The Number Of Terms:23\n",
      "Sequence:\n",
      "0\n",
      "1\n",
      "1\n",
      "2\n",
      "3\n",
      "5\n",
      "8\n",
      "13\n",
      "21\n",
      "34\n",
      "55\n",
      "89\n",
      "144\n",
      "233\n",
      "377\n",
      "610\n",
      "987\n",
      "1597\n",
      "2584\n",
      "4181\n",
      "6765\n",
      "10946\n",
      "17711\n"
     ]
    }
   ],
   "source": [
    "print('Fibonacci Series')\n",
    "X=int(input('Enter The Number Of Terms:'))\n",
    "Y=0\n",
    "Z=1\n",
    "C=0\n",
    "if X<0:\n",
    "    print('Enter Positive Number')\n",
    "elif X==0:\n",
    "    print('For 1 Ans Is 0')\n",
    "elif X==1:\n",
    "    print('For 2 Ans Is 1')\n",
    "else:\n",
    "    print('Sequence:')\n",
    "    while C<X:\n",
    "        print(Y)\n",
    "        S=Y+Z\n",
    "        Y=Z\n",
    "        Z=S\n",
    "        C+=1"
   ]
  },
  {
   "cell_type": "markdown",
   "metadata": {},
   "source": [
    "Python Program to Check Armstrong Number (for 3 digits)"
   ]
  },
  {
   "cell_type": "code",
   "execution_count": 34,
   "metadata": {},
   "outputs": [
    {
     "name": "stdout",
     "output_type": "stream",
     "text": [
      "Enter The Number:636\n",
      "636 Is Not A Armstrong Number\n"
     ]
    }
   ],
   "source": [
    "X=int(input('Enter The Number:'))\n",
    "S=0\n",
    "Temp=X\n",
    "while Temp>0:\n",
    "    Dig=Temp%10\n",
    "    S+=Dig**3\n",
    "    Temp//=10\n",
    "if X==S:\n",
    "    print(X,'Is A Armstrong Number')\n",
    "else:\n",
    "    print(X,'Is Not A Armstrong Number')"
   ]
  }
 ],
 "metadata": {
  "kernelspec": {
   "display_name": "Python 3",
   "language": "python",
   "name": "python3"
  },
  "language_info": {
   "codemirror_mode": {
    "name": "ipython",
    "version": 3
   },
   "file_extension": ".py",
   "mimetype": "text/x-python",
   "name": "python",
   "nbconvert_exporter": "python",
   "pygments_lexer": "ipython3",
   "version": "3.8.0"
  }
 },
 "nbformat": 4,
 "nbformat_minor": 4
}
