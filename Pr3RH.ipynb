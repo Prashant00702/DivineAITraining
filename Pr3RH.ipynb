{
 "cells": [
  {
   "cell_type": "code",
   "execution_count": 9,
   "metadata": {},
   "outputs": [
    {
     "name": "stdout",
     "output_type": "stream",
     "text": [
      "69\n",
      "132\n",
      "165\n",
      "198\n"
     ]
    }
   ],
   "source": [
    "for i in [23,44,55,66]:\n",
    "    print(i*3)"
   ]
  },
  {
   "cell_type": "code",
   "execution_count": 11,
   "metadata": {},
   "outputs": [
    {
     "name": "stdout",
     "output_type": "stream",
     "text": [
      "O\n",
      "b\n",
      "i\n",
      "t\n",
      "o\n"
     ]
    }
   ],
   "source": [
    "for i in 'Obito':\n",
    "    print(i)"
   ]
  },
  {
   "cell_type": "code",
   "execution_count": 13,
   "metadata": {},
   "outputs": [
    {
     "name": "stdout",
     "output_type": "stream",
     "text": [
      "Enter The Number:23\n",
      "23 X 1 = 23\n",
      "23 X 2 = 46\n",
      "23 X 3 = 69\n",
      "23 X 4 = 92\n",
      "23 X 5 = 115\n",
      "23 X 6 = 138\n",
      "23 X 7 = 161\n",
      "23 X 8 = 184\n",
      "23 X 9 = 207\n"
     ]
    }
   ],
   "source": [
    "n=int(input(\"Enter The Number:\"))\n",
    "for i in range(1,10):\n",
    "    print(n,'X',i,'=',n*i)"
   ]
  },
  {
   "cell_type": "code",
   "execution_count": 19,
   "metadata": {},
   "outputs": [
    {
     "name": "stdout",
     "output_type": "stream",
     "text": [
      "Enter The Number:12\n",
      "Sum Of N Natural Number= 78\n"
     ]
    }
   ],
   "source": [
    "n=int(input('Enter The Number:'))\n",
    "if(n<0):\n",
    "    print('Enter The Positive Number:')\n",
    "else:\n",
    "    sum=0\n",
    "while(n>0):\n",
    "    sum +=n\n",
    "    n -=1\n",
    "print(\"Sum Of N Natural Number=\",sum)"
   ]
  },
  {
   "cell_type": "code",
   "execution_count": 22,
   "metadata": {},
   "outputs": [
    {
     "name": "stdout",
     "output_type": "stream",
     "text": [
      "Enter The Number:34\n",
      "Factorial Of  34 is= 295232799039604140847618609643520000000\n"
     ]
    }
   ],
   "source": [
    "n=int(input('Enter The Number:'))\n",
    "fact=1\n",
    "if n<0:\n",
    "    print('Factorials Of Negative Number Doesn\"t exist')\n",
    "elif n==0:\n",
    "    print(\"Factorial Of Number 0 is 1\")\n",
    "else :\n",
    "    for i in range(1,n+1):\n",
    "        fact*=i\n",
    "    print('Factorial Of ',n,\"is=\",fact)\n"
   ]
  },
  {
   "cell_type": "code",
   "execution_count": 24,
   "metadata": {},
   "outputs": [
    {
     "name": "stdout",
     "output_type": "stream",
     "text": [
      "enter the no of sales of the month2\n",
      "Enter the values of sales\n",
      "34\n",
      "55\n"
     ]
    },
    {
     "ename": "TypeError",
     "evalue": "'int' object is not callable",
     "output_type": "error",
     "traceback": [
      "\u001b[1;31m---------------------------------------------------------------------------\u001b[0m",
      "\u001b[1;31mTypeError\u001b[0m                                 Traceback (most recent call last)",
      "\u001b[1;32m<ipython-input-24-9e9c1b2e1bfd>\u001b[0m in \u001b[0;36m<module>\u001b[1;34m\u001b[0m\n\u001b[0;32m      5\u001b[0m     \u001b[0mb\u001b[0m\u001b[1;33m=\u001b[0m\u001b[0mint\u001b[0m\u001b[1;33m(\u001b[0m\u001b[0minput\u001b[0m\u001b[1;33m(\u001b[0m\u001b[1;34m\"\"\u001b[0m\u001b[1;33m)\u001b[0m\u001b[1;33m)\u001b[0m\u001b[1;33m\u001b[0m\u001b[1;33m\u001b[0m\u001b[0m\n\u001b[0;32m      6\u001b[0m     \u001b[0ma\u001b[0m\u001b[1;33m.\u001b[0m\u001b[0mappend\u001b[0m\u001b[1;33m(\u001b[0m\u001b[0mb\u001b[0m\u001b[1;33m)\u001b[0m\u001b[1;33m\u001b[0m\u001b[1;33m\u001b[0m\u001b[0m\n\u001b[1;32m----> 7\u001b[1;33m \u001b[0mavg\u001b[0m\u001b[1;33m=\u001b[0m\u001b[0msum\u001b[0m\u001b[1;33m(\u001b[0m\u001b[0ma\u001b[0m\u001b[1;33m)\u001b[0m\u001b[1;33m/\u001b[0m\u001b[0mn\u001b[0m\u001b[1;33m\u001b[0m\u001b[1;33m\u001b[0m\u001b[0m\n\u001b[0m\u001b[0;32m      8\u001b[0m \u001b[0mprint\u001b[0m\u001b[1;33m(\u001b[0m\u001b[0mavg\u001b[0m\u001b[1;33m)\u001b[0m\u001b[1;33m\u001b[0m\u001b[1;33m\u001b[0m\u001b[0m\n",
      "\u001b[1;31mTypeError\u001b[0m: 'int' object is not callable"
     ]
    }
   ],
   "source": [
    "n=int(input(\"enter the no of sales of the month\"))\n",
    "a=[]\n",
    "print(\"Enter the values of sales\")\n",
    "for i in range(0,n):\n",
    "    b=int(input(\"\"))\n",
    "    a.append(b)\n",
    "avg=sum(a)/n\n",
    "print(avg)"
   ]
  },
  {
   "cell_type": "code",
   "execution_count": 26,
   "metadata": {},
   "outputs": [
    {
     "name": "stdout",
     "output_type": "stream",
     "text": [
      "Russian Peaseant Method\n",
      "Enter The First Number:23\n",
      "Enter The Second Number:31\n",
      "23 X 31 = 961\n"
     ]
    }
   ],
   "source": [
    "print('Russian Peaseant Method')\n",
    "S=0\n",
    "X=int(input(\"Enter The First Number:\"))\n",
    "Y=int(input(\"Enter The Second Number:\"))\n",
    "A=X\n",
    "B=Y\n",
    "while A>=1:\n",
    "    if A%2!=0:\n",
    "        S=S+B\n",
    "    A/=2\n",
    "    B*=2\n",
    "print(X,'X',Y,'=',S)"
   ]
  },
  {
   "cell_type": "code",
   "execution_count": 32,
   "metadata": {},
   "outputs": [
    {
     "name": "stdout",
     "output_type": "stream",
     "text": [
      "Fibonaci Series\n",
      "Enter The Number Of Terms:7\n",
      "Sequence:\n",
      "0\n",
      "1\n",
      "1\n",
      "2\n",
      "3\n",
      "5\n",
      "8\n"
     ]
    }
   ],
   "source": [
    "print('Fibonaci Series')\n",
    "X=int(input('Enter The Number Of Terms:'))\n",
    "Y=0\n",
    "Z=1\n",
    "C=0\n",
    "if X<0:\n",
    "    print('Enter Positive Number')\n",
    "elif X==0:\n",
    "    print('For 1 Ans Is 0')\n",
    "elif X==1:\n",
    "    print('For 2 Ans Is 1')\n",
    "else:\n",
    "    print('Sequence:')\n",
    "    while C<X:\n",
    "        print(Y)\n",
    "        S=Y+Z\n",
    "        Y=Z\n",
    "        Z=S\n",
    "        C+=1"
   ]
  },
  {
   "cell_type": "code",
   "execution_count": 37,
   "metadata": {},
   "outputs": [
    {
     "name": "stdout",
     "output_type": "stream",
     "text": [
      "*\r\n",
      "**\r\n",
      "***\r\n",
      "****\r\n",
      "*****\r\n"
     ]
    }
   ],
   "source": [
    "for i in range(0,5):\n",
    "    for j in range(0,i+1):\n",
    "        print('*',end=\"\")\n",
    "    print('\\r')"
   ]
  },
  {
   "cell_type": "code",
   "execution_count": 38,
   "metadata": {},
   "outputs": [
    {
     "name": "stdout",
     "output_type": "stream",
     "text": [
      "1\r\n",
      "22\r\n",
      "333\r\n",
      "4444\r\n",
      "55555\r\n",
      "666666\r\n"
     ]
    }
   ],
   "source": [
    "for i in range(0,6):\n",
    "    for j in range(0,i+1):\n",
    "        print(i+1,end='')\n",
    "    print('\\r')"
   ]
  },
  {
   "cell_type": "code",
   "execution_count": 41,
   "metadata": {},
   "outputs": [
    {
     "name": "stdout",
     "output_type": "stream",
     "text": [
      "1\r\n",
      "12\r\n",
      "123\r\n",
      "1234\r\n"
     ]
    }
   ],
   "source": [
    "for i in range (1,5):\n",
    "    for j in range(1,i+1):\n",
    "        print(j,end='')\n",
    "    print('\\r')"
   ]
  },
  {
   "cell_type": "code",
   "execution_count": 48,
   "metadata": {},
   "outputs": [
    {
     "name": "stdout",
     "output_type": "stream",
     "text": [
      "******\r\n",
      "*****\r\n",
      "****\r\n",
      "***\r\n",
      "**\r\n",
      "*\r\n"
     ]
    }
   ],
   "source": [
    "for i in range(5,-1,-1):\n",
    "    for j in range(0,i+1):\n",
    "        print('*',end='')\n",
    "    print('\\r')"
   ]
  },
  {
   "cell_type": "code",
   "execution_count": 49,
   "metadata": {},
   "outputs": [
    {
     "name": "stdout",
     "output_type": "stream",
     "text": [
      "88888888\r\n",
      "7777777\r\n",
      "666666\r\n",
      "55555\r\n",
      "4444\r\n",
      "333\r\n",
      "22\r\n",
      "1\r\n"
     ]
    }
   ],
   "source": [
    "for i in range(7,-1,-1):\n",
    "    for j in range(0,i+1):\n",
    "        print(i+1,end='')\n",
    "    print('\\r')"
   ]
  },
  {
   "cell_type": "code",
   "execution_count": 51,
   "metadata": {},
   "outputs": [
    {
     "name": "stdout",
     "output_type": "stream",
     "text": [
      "123456\r\n",
      "12345\r\n",
      "1234\r\n",
      "123\r\n",
      "12\r\n",
      "1\r\n",
      "\r\n"
     ]
    }
   ],
   "source": [
    "for i in range(6,-1,-1):\n",
    "    for j in range(1,i+1):\n",
    "        print(j,end='')\n",
    "    print('\\r')"
   ]
  },
  {
   "cell_type": "code",
   "execution_count": 59,
   "metadata": {},
   "outputs": [
    {
     "name": "stdout",
     "output_type": "stream",
     "text": [
      "2\n",
      "34\n",
      "456\n",
      "5678\n"
     ]
    }
   ],
   "source": [
    "for i in range(1,5):\n",
    "    for j in range(1,i+1):\n",
    "        print(j+i,end='')\n",
    "    print('')"
   ]
  },
  {
   "cell_type": "code",
   "execution_count": null,
   "metadata": {},
   "outputs": [],
   "source": []
  }
 ],
 "metadata": {
  "kernelspec": {
   "display_name": "Python 3",
   "language": "python",
   "name": "python3"
  },
  "language_info": {
   "codemirror_mode": {
    "name": "ipython",
    "version": 3
   },
   "file_extension": ".py",
   "mimetype": "text/x-python",
   "name": "python",
   "nbconvert_exporter": "python",
   "pygments_lexer": "ipython3",
   "version": "3.8.0"
  }
 },
 "nbformat": 4,
 "nbformat_minor": 4
}
