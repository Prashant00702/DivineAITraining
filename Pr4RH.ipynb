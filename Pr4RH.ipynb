{
 "cells": [
  {
   "cell_type": "code",
   "execution_count": 1,
   "metadata": {},
   "outputs": [
    {
     "name": "stdout",
     "output_type": "stream",
     "text": [
      "Dragon Ball Super\n"
     ]
    }
   ],
   "source": [
    "def HH():\n",
    "    print('Dragon Ball Super')\n",
    "HH()"
   ]
  },
  {
   "cell_type": "code",
   "execution_count": 2,
   "metadata": {},
   "outputs": [
    {
     "name": "stdout",
     "output_type": "stream",
     "text": [
      "Your Name\n"
     ]
    }
   ],
   "source": [
    "def H1(XY):\n",
    "    print('Your',XY)\n",
    "H1('Name')"
   ]
  },
  {
   "cell_type": "code",
   "execution_count": 3,
   "metadata": {},
   "outputs": [],
   "source": [
    "def H2(X,Y):\n",
    "    S=X+Y\n",
    "    print('Addition',S)\n",
    "    V=X*Y\n",
    "    print('Subtraction',V)\n",
    "    W=X/Y\n",
    "    return W"
   ]
  },
  {
   "cell_type": "code",
   "execution_count": 4,
   "metadata": {},
   "outputs": [
    {
     "name": "stdout",
     "output_type": "stream",
     "text": [
      "Addition 78\n",
      "Subtraction 1265\n"
     ]
    },
    {
     "data": {
      "text/plain": [
       "0.41818181818181815"
      ]
     },
     "execution_count": 4,
     "metadata": {},
     "output_type": "execute_result"
    }
   ],
   "source": [
    "H2(23,55)"
   ]
  },
  {
   "cell_type": "code",
   "execution_count": 5,
   "metadata": {},
   "outputs": [],
   "source": [
    "def H3(X):\n",
    "    S=X**2\n",
    "    return S"
   ]
  },
  {
   "cell_type": "code",
   "execution_count": 6,
   "metadata": {},
   "outputs": [
    {
     "data": {
      "text/plain": [
       "25"
      ]
     },
     "execution_count": 6,
     "metadata": {},
     "output_type": "execute_result"
    }
   ],
   "source": [
    "H3(5)"
   ]
  },
  {
   "cell_type": "code",
   "execution_count": 7,
   "metadata": {},
   "outputs": [],
   "source": [
    "def area_of_circle():\n",
    "    p=3.14\n",
    "    r=float(input(\"Enter The Radius Of The Circle:\"))\n",
    "    a=p*r*r\n",
    "    print(\"Area OF The Circle:\",a)    "
   ]
  },
  {
   "cell_type": "code",
   "execution_count": 8,
   "metadata": {},
   "outputs": [
    {
     "name": "stdout",
     "output_type": "stream",
     "text": [
      "Enter The Radius Of The Circle:23.4\n",
      "Area OF The Circle: 1719.3383999999999\n"
     ]
    }
   ],
   "source": [
    "area_of_circle()"
   ]
  },
  {
   "cell_type": "code",
   "execution_count": 9,
   "metadata": {},
   "outputs": [],
   "source": [
    "def cal():\n",
    "    a=44\n",
    "    b=28\n",
    "    c=a+b\n",
    "    d=a-b\n",
    "    e=a*b\n",
    "    return c,d,e"
   ]
  },
  {
   "cell_type": "code",
   "execution_count": 10,
   "metadata": {},
   "outputs": [
    {
     "data": {
      "text/plain": [
       "(72, 16, 1232)"
      ]
     },
     "execution_count": 10,
     "metadata": {},
     "output_type": "execute_result"
    }
   ],
   "source": [
    "cal()"
   ]
  },
  {
   "cell_type": "code",
   "execution_count": 11,
   "metadata": {},
   "outputs": [],
   "source": [
    "def area_of_rectangle():\n",
    "    l=int(input(\"Enter The Lenght Of The Rectangle:\"))\n",
    "    b=int(input(\"Enter The Breadth Of The Rectangle:\"))\n",
    "    a=l*b\n",
    "    return a"
   ]
  },
  {
   "cell_type": "code",
   "execution_count": 12,
   "metadata": {},
   "outputs": [
    {
     "name": "stdout",
     "output_type": "stream",
     "text": [
      "Enter The Lenght Of The Rectangle:45\n",
      "Enter The Breadth Of The Rectangle:22\n"
     ]
    },
    {
     "data": {
      "text/plain": [
       "990"
      ]
     },
     "execution_count": 12,
     "metadata": {},
     "output_type": "execute_result"
    }
   ],
   "source": [
    "area_of_rectangle()"
   ]
  },
  {
   "cell_type": "code",
   "execution_count": 16,
   "metadata": {},
   "outputs": [],
   "source": [
    "def fun(name,age):\n",
    "    print(\"Name:\",name, \"Age:\",age)"
   ]
  },
  {
   "cell_type": "code",
   "execution_count": 17,
   "metadata": {},
   "outputs": [
    {
     "name": "stdout",
     "output_type": "stream",
     "text": [
      "Name: Prashant Age: 21\n"
     ]
    }
   ],
   "source": [
    "fun('Prashant',21)"
   ]
  },
  {
   "cell_type": "code",
   "execution_count": 18,
   "metadata": {},
   "outputs": [],
   "source": [
    "def fun(num):\n",
    "    i=0\n",
    "    tab=0\n",
    "    print('Multiplication Table')\n",
    "    for i in range(1,11):\n",
    "        tab=num*i\n",
    "        print(tab)"
   ]
  },
  {
   "cell_type": "code",
   "execution_count": 19,
   "metadata": {},
   "outputs": [
    {
     "name": "stdout",
     "output_type": "stream",
     "text": [
      "Multiplication Table\n",
      "4\n",
      "8\n",
      "12\n",
      "16\n",
      "20\n",
      "24\n",
      "28\n",
      "32\n",
      "36\n",
      "40\n"
     ]
    }
   ],
   "source": [
    "fun(4)"
   ]
  },
  {
   "cell_type": "code",
   "execution_count": 21,
   "metadata": {},
   "outputs": [],
   "source": [
    "def fun(num):\n",
    "   fact=1\n",
    "   while (num>1):\n",
    "       fact=fact*num\n",
    "       num=num-1\n",
    "   print(fact)   "
   ]
  },
  {
   "cell_type": "code",
   "execution_count": 22,
   "metadata": {},
   "outputs": [
    {
     "name": "stdout",
     "output_type": "stream",
     "text": [
      "Enter any number for factorial :5\n",
      "120\n"
     ]
    }
   ],
   "source": [
    "a=int(input(\"Enter any number for factorial :\"))\n",
    "fun(a)"
   ]
  },
  {
   "cell_type": "code",
   "execution_count": 25,
   "metadata": {},
   "outputs": [],
   "source": [
    "def KILL(a,b):\n",
    "    print(a)\n",
    "    print(a[2:3])\n",
    "    print(b)\n",
    "    print(a[0],b)"
   ]
  },
  {
   "cell_type": "code",
   "execution_count": 26,
   "metadata": {},
   "outputs": [
    {
     "name": "stdout",
     "output_type": "stream",
     "text": [
      "['Prashant', 3, 4, 69, 21, 'Lucifer', \"Hell's Fire\", 4, 123]\n",
      "[4]\n",
      "Singh\n",
      "Prashant Singh\n"
     ]
    }
   ],
   "source": [
    "X=['Prashant',3,4,69,21,'Lucifer',\"Hell's Fire\",4,123]\n",
    "Y='Singh'\n",
    "KILL(X,Y)"
   ]
  },
  {
   "cell_type": "code",
   "execution_count": 2,
   "metadata": {},
   "outputs": [],
   "source": [
    "def CalDist(X,Y):\n",
    "    Dist=0\n",
    "    for i in range(len(X)):\n",
    "        D=X[i]+Y[i]\n",
    "        Dist+=D*D\n",
    "    Dist=Dist**1/2\n",
    "    return(Dist)"
   ]
  },
  {
   "cell_type": "code",
   "execution_count": 3,
   "metadata": {},
   "outputs": [
    {
     "data": {
      "text/plain": [
       "6953.86"
      ]
     },
     "execution_count": 3,
     "metadata": {},
     "output_type": "execute_result"
    }
   ],
   "source": [
    "X1=(3.2,22.3,11.4)\n",
    "Y1=(33.2,55.3,69.6)\n",
    "CalDist(X1,Y1)"
   ]
  },
  {
   "cell_type": "code",
   "execution_count": 4,
   "metadata": {},
   "outputs": [
    {
     "data": {
      "text/plain": [
       "11648.5"
      ]
     },
     "execution_count": 4,
     "metadata": {},
     "output_type": "execute_result"
    }
   ],
   "source": [
    "CalDist((34,55),(55,69))"
   ]
  },
  {
   "cell_type": "code",
   "execution_count": 5,
   "metadata": {},
   "outputs": [
    {
     "data": {
      "text/plain": [
       "85.0"
      ]
     },
     "execution_count": 5,
     "metadata": {},
     "output_type": "execute_result"
    }
   ],
   "source": [
    "CalDist([4,5],[3,6])"
   ]
  },
  {
   "cell_type": "code",
   "execution_count": 6,
   "metadata": {},
   "outputs": [
    {
     "data": {
      "text/plain": [
       "122.0"
      ]
     },
     "execution_count": 6,
     "metadata": {},
     "output_type": "execute_result"
    }
   ],
   "source": [
    "CalDist([3,4],(7,8))"
   ]
  },
  {
   "cell_type": "code",
   "execution_count": 9,
   "metadata": {},
   "outputs": [],
   "source": [
    "def Murder(Nun):\n",
    "    if Nun>0:\n",
    "        return \"Positive Number\"\n",
    "    elif Nun<0:\n",
    "        return \"Negative Number\"\n",
    "    return\n",
    "    print('Tsukuyomi')"
   ]
  },
  {
   "cell_type": "code",
   "execution_count": 10,
   "metadata": {},
   "outputs": [
    {
     "name": "stdout",
     "output_type": "stream",
     "text": [
      "Enter The Number:23\n",
      "Enter The Number:-69\n",
      "Enter The Number:0\n",
      "X IS Positive Number\n",
      "Y IS Negative Number\n",
      "Z IS None\n"
     ]
    }
   ],
   "source": [
    "X=int(input(\"Enter The Number:\"))\n",
    "Y=int(input(\"Enter The Number:\"))\n",
    "Z=int(input(\"Enter The Number:\"))\n",
    "print('X IS',Murder(X))\n",
    "print('Y IS',Murder(Y))\n",
    "print('Z IS',Murder(Z))"
   ]
  },
  {
   "cell_type": "code",
   "execution_count": 11,
   "metadata": {},
   "outputs": [],
   "source": [
    "def Conjuring(X,Y,STR):\n",
    "    S=X+Y\n",
    "    D=X-Y\n",
    "    P=X*Y\n",
    "    DD=X/Y\n",
    "    FD=X//Y\n",
    "    NA=STR\n",
    "    return S,D,P,DD,FD,NA"
   ]
  },
  {
   "cell_type": "code",
   "execution_count": 13,
   "metadata": {},
   "outputs": [
    {
     "name": "stdout",
     "output_type": "stream",
     "text": [
      "(122, -54, 2992, 0.38636363636363635, 0, 'SON GOKU')\n"
     ]
    }
   ],
   "source": [
    "Direct_Values=Conjuring(34,88,'SON GOKU')\n",
    "print(Direct_Values)"
   ]
  },
  {
   "cell_type": "code",
   "execution_count": 14,
   "metadata": {},
   "outputs": [
    {
     "name": "stdout",
     "output_type": "stream",
     "text": [
      "A1: 72\n",
      "A2: 66\n",
      "A3: 207\n",
      "A4: 23.0\n",
      "A5: 23\n",
      "A6: Prince Vegeta\n"
     ]
    }
   ],
   "source": [
    "A1,A2,A3,A4,A5,A6=Conjuring(69,3,'Prince Vegeta')\n",
    "print('A1:',A1)\n",
    "print('A2:',A2)\n",
    "print('A3:',A3)\n",
    "print('A4:',A4)\n",
    "print('A5:',A5)\n",
    "print('A6:',A6)"
   ]
  },
  {
   "cell_type": "code",
   "execution_count": 19,
   "metadata": {},
   "outputs": [
    {
     "name": "stdout",
     "output_type": "stream",
     "text": [
      "PrashantPrashantPrashantPrashant\n",
      "SinghSinghSinghSinghSingh\n"
     ]
    }
   ],
   "source": [
    "def repeat(ANI,X):\n",
    "    result=''\n",
    "    for i in range(0,X):\n",
    "        result+=ANI\n",
    "    return result\n",
    "print(repeat('Prashant',4))\n",
    "print(repeat(X=5,ANI='Singh'))"
   ]
  },
  {
   "cell_type": "code",
   "execution_count": 20,
   "metadata": {},
   "outputs": [
    {
     "name": "stdout",
     "output_type": "stream",
     "text": [
      "[700]\n",
      "[700, 700]\n",
      "[700, 700, 700]\n",
      "[700]\n",
      "[700]\n",
      "[700]\n"
     ]
    }
   ],
   "source": [
    "def PS(Parameters=[]):\n",
    "    Parameters.append(700)\n",
    "    print(Parameters)\n",
    "PS()\n",
    "PS()\n",
    "PS()\n",
    "PS([])\n",
    "PS([])\n",
    "PS([])"
   ]
  },
  {
   "cell_type": "code",
   "execution_count": 26,
   "metadata": {},
   "outputs": [
    {
     "name": "stdout",
     "output_type": "stream",
     "text": [
      "[56]\n",
      "[56, 56]\n",
      "[56, 56, 56]\n",
      "[56]\n"
     ]
    }
   ],
   "source": [
    "def PS(Parameters):\n",
    "    Parameters.append(56)\n",
    "    print(Parameters)\n",
    "X=[]\n",
    "PS(X)\n",
    "PS(X)\n",
    "PS(X)\n",
    "Y=[]\n",
    "PS(Y)"
   ]
  },
  {
   "cell_type": "code",
   "execution_count": 28,
   "metadata": {},
   "outputs": [
    {
     "name": "stdout",
     "output_type": "stream",
     "text": [
      "Uchiha Clan Has Total Memners: 4520000000009 and Total Annihilation was: 1000000000\n",
      "Uchiha Clan Has Total Memners: 452000000 and Total Annihilation was: 451999997\n"
     ]
    }
   ],
   "source": [
    "def Uchiha_Clan(Members,Killed=1000000000):\n",
    "    print(\"Uchiha Clan Has Total Memners:\",Members,'and Total Annihilation was:',Killed)\n",
    "Uchiha_Clan(4520000000009)\n",
    "Uchiha_Clan(452000000,451999997)"
   ]
  },
  {
   "cell_type": "code",
   "execution_count": 29,
   "metadata": {},
   "outputs": [
    {
     "name": "stdout",
     "output_type": "stream",
     "text": [
      "Uchiha Clan Has Total Memners: 239462364796 and Total Annihilation was: 2378461128937\n"
     ]
    }
   ],
   "source": [
    "Uchiha_Clan(Members=239462364796,Killed=2378461128937)"
   ]
  },
  {
   "cell_type": "code",
   "execution_count": 30,
   "metadata": {},
   "outputs": [
    {
     "name": "stdout",
     "output_type": "stream",
     "text": [
      "Uchiha Clan Has Total Memners: 239462364796 and Total Annihilation was: 2378461128937\n"
     ]
    }
   ],
   "source": [
    "Uchiha_Clan(Killed=2378461128937,Members=239462364796)"
   ]
  },
  {
   "cell_type": "code",
   "execution_count": 31,
   "metadata": {},
   "outputs": [
    {
     "ename": "TypeError",
     "evalue": "Uchiha_Clan() missing 1 required positional argument: 'Members'",
     "output_type": "error",
     "traceback": [
      "\u001b[1;31m---------------------------------------------------------------------------\u001b[0m",
      "\u001b[1;31mTypeError\u001b[0m                                 Traceback (most recent call last)",
      "\u001b[1;32m<ipython-input-31-ed003bf6b1b6>\u001b[0m in \u001b[0;36m<module>\u001b[1;34m\u001b[0m\n\u001b[1;32m----> 1\u001b[1;33m \u001b[0mUchiha_Clan\u001b[0m\u001b[1;33m(\u001b[0m\u001b[0mKilled\u001b[0m\u001b[1;33m=\u001b[0m\u001b[1;36m2378461128937\u001b[0m\u001b[1;33m)\u001b[0m\u001b[1;33m\u001b[0m\u001b[1;33m\u001b[0m\u001b[0m\n\u001b[0m",
      "\u001b[1;31mTypeError\u001b[0m: Uchiha_Clan() missing 1 required positional argument: 'Members'"
     ]
    }
   ],
   "source": [
    "Uchiha_Clan(Killed=2378461128937)"
   ]
  },
  {
   "cell_type": "code",
   "execution_count": 32,
   "metadata": {},
   "outputs": [
    {
     "name": "stdout",
     "output_type": "stream",
     "text": [
      "Enter The First Number44\n",
      "Enter The Second Number88\n",
      "Result= -1.499806326662363\n"
     ]
    }
   ],
   "source": [
    "def Math(X,Y):\n",
    "    DC=((X+Y)*(X-Y))/((X*Y)+(X/Y))\n",
    "    return DC\n",
    "V=int(input('Enter The First Number'))\n",
    "Z=int(input('Enter The Second Number'))\n",
    "print('Result=',Math(V,Z))"
   ]
  },
  {
   "cell_type": "code",
   "execution_count": 34,
   "metadata": {},
   "outputs": [
    {
     "ename": "UnboundLocalError",
     "evalue": "local variable 'C' referenced before assignment",
     "output_type": "error",
     "traceback": [
      "\u001b[1;31m---------------------------------------------------------------------------\u001b[0m",
      "\u001b[1;31mUnboundLocalError\u001b[0m                         Traceback (most recent call last)",
      "\u001b[1;32m<ipython-input-34-7a2ca17349db>\u001b[0m in \u001b[0;36m<module>\u001b[1;34m\u001b[0m\n\u001b[0;32m      3\u001b[0m     \u001b[0mprint\u001b[0m\u001b[1;33m(\u001b[0m\u001b[0mC\u001b[0m\u001b[1;33m)\u001b[0m\u001b[1;33m\u001b[0m\u001b[1;33m\u001b[0m\u001b[0m\n\u001b[0;32m      4\u001b[0m     \u001b[0mC\u001b[0m\u001b[1;33m+=\u001b[0m\u001b[1;36m1\u001b[0m\u001b[1;33m\u001b[0m\u001b[1;33m\u001b[0m\u001b[0m\n\u001b[1;32m----> 5\u001b[1;33m \u001b[0mIncrement\u001b[0m\u001b[1;33m(\u001b[0m\u001b[1;33m)\u001b[0m\u001b[1;33m\u001b[0m\u001b[1;33m\u001b[0m\u001b[0m\n\u001b[0m\u001b[0;32m      6\u001b[0m \u001b[0mprint\u001b[0m\u001b[1;33m(\u001b[0m\u001b[0mC\u001b[0m\u001b[1;33m)\u001b[0m\u001b[1;33m\u001b[0m\u001b[1;33m\u001b[0m\u001b[0m\n",
      "\u001b[1;32m<ipython-input-34-7a2ca17349db>\u001b[0m in \u001b[0;36mIncrement\u001b[1;34m()\u001b[0m\n\u001b[0;32m      1\u001b[0m \u001b[0mC\u001b[0m\u001b[1;33m=\u001b[0m\u001b[1;36m1\u001b[0m\u001b[1;33m\u001b[0m\u001b[1;33m\u001b[0m\u001b[0m\n\u001b[0;32m      2\u001b[0m \u001b[1;32mdef\u001b[0m \u001b[0mIncrement\u001b[0m\u001b[1;33m(\u001b[0m\u001b[1;33m)\u001b[0m\u001b[1;33m:\u001b[0m\u001b[1;33m\u001b[0m\u001b[1;33m\u001b[0m\u001b[0m\n\u001b[1;32m----> 3\u001b[1;33m     \u001b[0mprint\u001b[0m\u001b[1;33m(\u001b[0m\u001b[0mC\u001b[0m\u001b[1;33m)\u001b[0m\u001b[1;33m\u001b[0m\u001b[1;33m\u001b[0m\u001b[0m\n\u001b[0m\u001b[0;32m      4\u001b[0m     \u001b[0mC\u001b[0m\u001b[1;33m+=\u001b[0m\u001b[1;36m1\u001b[0m\u001b[1;33m\u001b[0m\u001b[1;33m\u001b[0m\u001b[0m\n\u001b[0;32m      5\u001b[0m \u001b[0mIncrement\u001b[0m\u001b[1;33m(\u001b[0m\u001b[1;33m)\u001b[0m\u001b[1;33m\u001b[0m\u001b[1;33m\u001b[0m\u001b[0m\n",
      "\u001b[1;31mUnboundLocalError\u001b[0m: local variable 'C' referenced before assignment"
     ]
    }
   ],
   "source": [
    "C=1\n",
    "def Increment():\n",
    "    print(C)\n",
    "    C+=1\n",
    "Increment()\n",
    "print(C)"
   ]
  },
  {
   "cell_type": "code",
   "execution_count": 35,
   "metadata": {},
   "outputs": [
    {
     "name": "stdout",
     "output_type": "stream",
     "text": [
      "Counter: 1\n",
      "2\n"
     ]
    }
   ],
   "source": [
    "C=1\n",
    "def Increment():\n",
    "    global C\n",
    "    print('Counter:',C)\n",
    "    C+=1\n",
    "Increment()\n",
    "print(C)"
   ]
  },
  {
   "cell_type": "code",
   "execution_count": 38,
   "metadata": {},
   "outputs": [
    {
     "name": "stdout",
     "output_type": "stream",
     "text": [
      "1\n"
     ]
    }
   ],
   "source": [
    "def Increment(C):\n",
    "    return C+1\n",
    "C=0\n",
    "C=Increment(C)\n",
    "print(C)"
   ]
  },
  {
   "cell_type": "code",
   "execution_count": 42,
   "metadata": {},
   "outputs": [
    {
     "name": "stdout",
     "output_type": "stream",
     "text": [
      "XYZ Outside: 10\n",
      "Number IS: 209\n",
      "XYZ Inside Function IS: 209\n",
      "3.0\n"
     ]
    }
   ],
   "source": [
    "XYZ=10\n",
    "def Average(P,XYZ):\n",
    "    Total=0\n",
    "    print('Number IS:',Num)\n",
    "    print('XYZ Inside Function IS:',XYZ)\n",
    "    for i in P:\n",
    "        Total=Total+i\n",
    "    AVG=Total/len(P)\n",
    "    return AVG\n",
    "X=[1,2,3,4,5]\n",
    "Num=209\n",
    "print('XYZ Outside:',XYZ)\n",
    "print(Average(X,Num))"
   ]
  },
  {
   "cell_type": "code",
   "execution_count": 51,
   "metadata": {},
   "outputs": [],
   "source": [
    "def Mangekyou(X):\n",
    "    Total=0\n",
    "    for i in X:\n",
    "        Total+=i\n",
    "    AVG=Total/len(X)\n",
    "    return AVG\n",
    "def Rinnegan():\n",
    "    X=[]\n",
    "    Y=int(input('Enter The Terms:'))\n",
    "    for i in range(Y):\n",
    "        Z=float(input('Enter The Values:'))\n",
    "        X.append(Z)\n",
    "    Result=Mangekyou(X)\n",
    "    print(Result)"
   ]
  },
  {
   "cell_type": "code",
   "execution_count": 52,
   "metadata": {},
   "outputs": [
    {
     "name": "stdout",
     "output_type": "stream",
     "text": [
      "Enter The Terms:6\n",
      "Enter The Values:23\n",
      "Enter The Values:66\n",
      "Enter The Values:22\n",
      "Enter The Values:35\n",
      "Enter The Values:56.69\n",
      "Enter The Values:33\n",
      "39.281666666666666\n"
     ]
    }
   ],
   "source": [
    "Rinnegan()"
   ]
  },
  {
   "cell_type": "code",
   "execution_count": null,
   "metadata": {},
   "outputs": [],
   "source": []
  }
 ],
 "metadata": {
  "kernelspec": {
   "display_name": "Python 3",
   "language": "python",
   "name": "python3"
  },
  "language_info": {
   "codemirror_mode": {
    "name": "ipython",
    "version": 3
   },
   "file_extension": ".py",
   "mimetype": "text/x-python",
   "name": "python",
   "nbconvert_exporter": "python",
   "pygments_lexer": "ipython3",
   "version": "3.8.0"
  }
 },
 "nbformat": 4,
 "nbformat_minor": 4
}
